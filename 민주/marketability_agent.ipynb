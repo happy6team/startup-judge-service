{
 "cells": [
  {
   "cell_type": "code",
   "execution_count": 76,
   "id": "04fab909",
   "metadata": {},
   "outputs": [],
   "source": [
    "# 폰트 설정 \n",
    "import matplotlib.pyplot as plt\n",
    "import matplotlib as mpl\n",
    "\n",
    "# WINDOWS\n",
    "plt.rcParams['font.family'] = 'Malgun Gothic'\n",
    "mpl.rcParams['axes.unicode_minus'] = False"
   ]
  },
  {
   "cell_type": "code",
   "execution_count": 77,
   "id": "6eefff32",
   "metadata": {},
   "outputs": [
    {
     "data": {
      "text/plain": [
       "True"
      ]
     },
     "execution_count": 77,
     "metadata": {},
     "output_type": "execute_result"
    }
   ],
   "source": [
    "from dotenv import load_dotenv\n",
    "\n",
    "load_dotenv()"
   ]
  },
  {
   "cell_type": "code",
   "execution_count": 78,
   "id": "0e351f6a",
   "metadata": {},
   "outputs": [
    {
     "name": "stdout",
     "output_type": "stream",
     "text": [
      "LangSmith 추적을 시작합니다.\n",
      "[프로젝트명]\n",
      "Marketability_Agent\n"
     ]
    }
   ],
   "source": [
    "from langchain_teddynote import logging\n",
    "\n",
    "logging.langsmith(\"Marketability_Agent\")"
   ]
  },
  {
   "cell_type": "markdown",
   "id": "9bb4434f",
   "metadata": {},
   "source": [
    "# 시장성 분석 에이전트\n",
    ": 시장 성장성, 수요 분석\n",
    "- 시장 리포트, 산업 뉴스 검색 등\n",
    "- 기업, 도메인 "
   ]
  },
  {
   "cell_type": "code",
   "execution_count": 79,
   "id": "d52afa09",
   "metadata": {},
   "outputs": [],
   "source": [
    "from typing import Dict, List, TypedDict, Annotated, Sequence, Literal\n",
    "from langgraph.graph.message import add_messages # 기존 메시지에 메시지를 더한다.\n",
    "\n",
    "from langchain_core.messages import HumanMessage, BaseMessage,AIMessage, SystemMessage, ToolMessage\n",
    "\n",
    "from langchain_community.tools.tavily_search import TavilySearchResults\n",
    "from langchain_openai import ChatOpenAI\n",
    "from langgraph.prebuilt import create_react_agent, tools_condition\n",
    "from langchain.tools import tool\n",
    "import operator"
   ]
  },
  {
   "cell_type": "code",
   "execution_count": 80,
   "id": "00f410eb",
   "metadata": {},
   "outputs": [],
   "source": [
    "from langchain import hub\n",
    "from langchain_core.output_parsers import StrOutputParser\n",
    "from langchain_core.prompts import PromptTemplate\n",
    "from pydantic import BaseModel, Field\n",
    "from langchain_teddynote.models import get_model_name, LLMs\n",
    "\n",
    "import uuid\n",
    "\n",
    "from langgraph.checkpoint.memory import MemorySaver\n",
    "from langgraph.graph import StateGraph, START, END"
   ]
  },
  {
   "cell_type": "markdown",
   "id": "af089edb",
   "metadata": {},
   "source": [
    "# 상태 정의 & 에이전트 정의"
   ]
  },
  {
   "cell_type": "code",
   "execution_count": 81,
   "id": "7249f002",
   "metadata": {},
   "outputs": [],
   "source": [
    "class AgentState(TypedDict):\n",
    "    domain: Annotated[str, \"Domain\"]\n",
    "    country: Annotated[str, \"Country\"]\n",
    "\n",
    "    startup_list: Annotated[list[str], \"Startup_list\"]   # 스타트업 탐색 에이전트가 생성하는 주요 기업명 목록\n",
    "    startup_profiles: Annotated[dict[str, dict], \"Startup_profiles\"]   # 스타트업별 정보 종합 저장소\n",
    "    tech_summary: Annotated[dict[str, str], \"Tech_summary\"]  # 각 스타트업 기술 요약 정보\n",
    "    founder_reputation: Annotated[dict[str, dict], \"Founder_reputation\"]  # 창업자 이력 + 평판 정보\n",
    "    market_analysis: Annotated[dict[str, dict], \"Market_analysis\"]  # 시장성 분석 결과\n",
    "    legal_risk: Annotated[dict[str, str], \"Legal_risk\"]  # 법적/규제 이슈 요약\n",
    "    competitor_info: Annotated[dict[str, dict], \"Competitor_info\"]  # 경쟁사 비교 분석\n",
    "    investment_decision: Annotated[dict[str, str], \"Investment_decision\"]  # 투자 판단 (투자 / 보류 + 사유)\n",
    "    final_report: Annotated[str, \"Final_report\"]  # 보고서 생성 에이전트의 출력물 (PDF or Text)"
   ]
  },
  {
   "cell_type": "code",
   "execution_count": null,
   "id": "4e22dae3",
   "metadata": {},
   "outputs": [],
   "source": []
  },
  {
   "cell_type": "markdown",
   "id": "3cd053fa",
   "metadata": {},
   "source": [
    "## 시장 성장성을 위한 산업 뉴스 검색 tool : tavily, naver news"
   ]
  },
  {
   "cell_type": "code",
   "execution_count": null,
   "id": "b48f54d1",
   "metadata": {},
   "outputs": [],
   "source": [
    "tavily_tool=TavilySearchResults(max_results=5)\n",
    "\n",
    "@tool\n",
    "def market_research(query: str)-> str:\n",
    "     \"\"\"\n",
    "    industry news, 시장 성장성을 검색해 조사해옵니다.\n",
    "    \n",
    "    Args:\n",
    "        query: 검색할 도메인이나 키워드\n",
    "    \"\"\"\n",
    "     results = tavily_tool.invoke(f\"{query} market trends analysis\")\n",
    "     return str(results)"
   ]
  },
  {
   "cell_type": "markdown",
   "id": "549ac7bb",
   "metadata": {},
   "source": [
    "## 수요 조사를 위한 검색 tool "
   ]
  },
  {
   "cell_type": "code",
   "execution_count": 83,
   "id": "7a433585",
   "metadata": {},
   "outputs": [],
   "source": [
    "@tool\n",
    "def look_for_demand(query: str)-> str:\n",
    "    \"\"\"\n",
    "    시장에 대한 수요를 분석합니다.\n",
    "\n",
    "    Args:\n",
    "        query: 검색할 도메인이나 키워드 \n",
    "    \"\"\"\n",
    "    results = tavily_tool.invoke(f\"{query} market demand analysis\")\n",
    "    return f\"{query}에 대한 시장 수요 분석 결과:\\n{results}\""
   ]
  },
  {
   "cell_type": "markdown",
   "id": "ea94c06b",
   "metadata": {},
   "source": [
    "## 시장성 분석 에이전트"
   ]
  },
  {
   "cell_type": "code",
   "execution_count": null,
   "id": "1aafcfa7",
   "metadata": {},
   "outputs": [],
   "source": [
    "def market_analysis(state: AgentState):\n",
    "    \"\"\"\n",
    "    일반적인 시장 분석을 수행\n",
    "    \"\"\"\n",
    "\n",
    "    domain= state[\"domain\"]\n",
    "    country= state[\"country\"]\n",
    "    print(domain)\n",
    "\n",
    "    market_tools = [tavily_tool, look_for_demand, market_research]\n",
    "    market_llm = ChatOpenAI(model=\"gpt-4o-mini\", temperature=0.2)\n",
    "    \n",
    "    market_analysis_system_prompt = f\"\"\"\n",
    "    당신은 스타트업을 위해 {domain}에 대한 종합적인 시장 분석을 전문으로 하는 전문 시장 분석가입니다.\n",
    "    당신의 임무는 스타트업의 전망을 알아보기 위해 시장 동향, 시장 수요를 분석하는 것 입니다.\n",
    "\n",
    "    다음 단계를 따르세요.\n",
    "    1. market_research 사용해 {domain} 도메인의 시장 동향 및 업계 뉴스에 대한 정보 수집\n",
    "    2. market_research를 통해 충분하지 못한 정보를 가져왔다고 판단되면 tavily_tool로 추가적인 정보를 수집\n",
    "    3. tavily_tool 사용해 해당 {domain} 도메인에 대한 시장 수요에 대한 정보 수집\n",
    "    4. 종합적인 시장 분석 정리. 수집한 정보를 28문장에서 32문장으로 요약하세요.\n",
    "    5. 시장 기회를 평가하기 위해 시장 크기, 성장 가능성, 고객의 반응 예측, 수요 파악의 내용을 종합적인 시장 분석 정리에 추가하세요.\n",
    "        모든 결론에는 수집한 정보에서 찾은 근거가 있어야 합니다.\n",
    "    6. 한국어로 작성해 주세요.\n",
    "\n",
    "    당신의 분석은 스타트업의 미래를 위한 시장 분석에 기여합니다.\n",
    "    \"\"\"\n",
    "    \n",
    "    market_agent = create_react_agent(\n",
    "        market_llm,\n",
    "        tools=market_tools,\n",
    "        state_modifier=market_analysis_system_prompt,\n",
    "    )\n",
    "    \n",
    "    # 초기화되지 않은 경우 \"시장성 평가 결과 저장\" 딕셔너리 초기화\n",
    "    if \"market_analysis\" not in state or state[\"market_analysis\"] is None:\n",
    "        state[\"market_analysis\"] = {}\n",
    "    \n",
    "    # 시장 분석 실행\n",
    "    result = market_agent.invoke({\n",
    "        \"input\": f\"{domain} 도메인/산업의 시장 분석을 수행해주세요. 특히 {country} 시장에 초점을 맞춰주세요.\"\n",
    "    })\n",
    "    \n",
    "\n",
    "    print(\"==========================================\\n\\n\")\n",
    "    print(result)\n",
    "    print(\"==========================================\\n\\n\")\n",
    "\n",
    "    # 결과 처리 - AIMessage 형태의 최종 응답 확인\n",
    "    final_responses = [msg for msg in result.get(\"messages\", []) \n",
    "                      if isinstance(msg, AIMessage) and not msg.additional_kwargs.get(\"tool_calls\")]\n",
    "    \n",
    "    if final_responses:\n",
    "        analysis_output = final_responses[-1].content\n",
    "    else:\n",
    "        analysis_output = \"시장 분석 결과를 얻지 못했습니다.\"\n",
    "    \n",
    "    # 분석 결과 구조화 -> 좋아보이니까 시간되면 하기\n",
    "    # general_market_data = {\n",
    "    #     \"market_size\": extract_market_info(analysis_output, \"시장 크기\"),\n",
    "    #     \"growth_potential\": extract_market_info(analysis_output, \"성장 가능성\"),\n",
    "    #     \"customer_response\": extract_market_info(analysis_output, \"고객 반응\"),\n",
    "    #     \"demand_analysis\": extract_market_info(analysis_output, \"수요 파악\"),\n",
    "    #     \"market_analysis\": analysis_output\n",
    "    # }\n",
    "    \n",
    "    # 일반 시장 분석 결과 저장\n",
    "    state[\"market_analysis\"][\"general\"] = analysis_output\n",
    "    \n",
    "    return state\n"
   ]
  },
  {
   "cell_type": "markdown",
   "id": "4c26e984",
   "metadata": {},
   "source": [
    "# 보고서 생성"
   ]
  },
  {
   "cell_type": "code",
   "execution_count": 85,
   "id": "b62513c9",
   "metadata": {},
   "outputs": [],
   "source": [
    "def report(state: AgentState):\n",
    "    \"\"\"\n",
    "    시장 분석 결과를 종합하여 최종 보고서를 생성하는 노드\n",
    "    \"\"\"\n",
    "    report_llm = ChatOpenAI(model=\"gpt-4o-mini\", temperature=0.2)\n",
    "    \n",
    "    report_prompt = f\"\"\"\n",
    "    당신은 전문적인 시장 분석 보고서 작성가입니다. \n",
    "    다음 시장 분석 결과를 바탕으로 종합적인 보고서를 작성해 주세요.\n",
    "    \n",
    "    시장 정보: {state[\"domain\"]}\n",
    "    \n",
    "    일반 시장 분석:\n",
    "    {state[\"market_analysis\"].get(\"general\", {}).get(\"full_analysis\", \"정보 없음\")}\n",
    "    \n",
    "    스타트업별 분석:\n",
    "    \"\"\"\n",
    "    \n",
    "    # 스타트업별 분석 정보 추가\n",
    "    for startup in state[\"startup_list\"]:\n",
    "        if startup in state[\"market_analysis\"]:\n",
    "            report_prompt += f\"\\n{startup}:\\n\"\n",
    "            report_prompt += f\"{state['market_analysis'][startup].get('full_analysis', '정보 없음')}\\n\"\n",
    "    \n",
    "    report_prompt += \"\"\"\n",
    "    보고서에는 다음 내용을 포함해 주세요:\n",
    "    1. 전체 시장 개요\n",
    "    2. 주요 트렌드 및 성장 촉진 요인\n",
    "    3. 각 스타트업의 시장 적합성 및 성장 가능성 평가\n",
    "    4. 투자 관점에서의 시사점\n",
    "    5. 결론 및 추천사항\n",
    "    \n",
    "    보고서는 전문적이고 객관적인 톤으로 작성해 주세요.\n",
    "    \"\"\"\n",
    "    \n",
    "    # 보고서 생성\n",
    "    report_chain = report_llm | (lambda x: x.content)\n",
    "    final_report = report_chain.invoke(report_prompt)\n",
    "    \n",
    "    # 최종 보고서 저장\n",
    "    state[\"final_report\"] = final_report\n",
    "    \n",
    "    # 사용자에게 보여줄 메시지 추가\n",
    "    state[\"messages\"] = add_messages(state[\"messages\"], [\n",
    "        AIMessage(content=f\"# 최종 시장 분석 보고서\\n\\n{final_report}\")\n",
    "    ])\n",
    "    \n",
    "    return state"
   ]
  },
  {
   "cell_type": "markdown",
   "id": "99f36117",
   "metadata": {},
   "source": [
    "# Node & Edge 정의"
   ]
  },
  {
   "cell_type": "code",
   "execution_count": 86,
   "id": "94359649",
   "metadata": {},
   "outputs": [],
   "source": [
    "memory=MemorySaver()\n",
    "workflow=StateGraph(AgentState)\n",
    "\n",
    "workflow.add_node(\"Market_Analyze\", market_analysis)\n",
    "\n",
    "workflow.add_edge(\"Market_Analyze\", END)\n",
    "workflow.add_edge(START, \"Market_Analyze\")\n",
    "\n",
    "# Set the entry point\n",
    "# workflow.set_entry_point(\"agent\") # 스타트업 검색\n",
    "\n",
    "graph=workflow.compile(checkpointer=memory)"
   ]
  },
  {
   "cell_type": "code",
   "execution_count": 87,
   "id": "9fa7dab6",
   "metadata": {},
   "outputs": [],
   "source": [
    "# from langchain_teddynote.graphs import visualize_graph\n",
    "\n",
    "# visualize_graph(graph)"
   ]
  },
  {
   "cell_type": "code",
   "execution_count": 88,
   "id": "cf85319b",
   "metadata": {},
   "outputs": [],
   "source": [
    "config={\"configurable\": {\"thread_id\": str(uuid.uuid4())}}"
   ]
  },
  {
   "cell_type": "code",
   "execution_count": 89,
   "id": "454f10d2",
   "metadata": {},
   "outputs": [],
   "source": [
    "def run_market_analysis(query: str):\n",
    "    \"\"\"\n",
    "    Run the market analysis workflow with the given query.\n",
    "    \"\"\"\n",
    "    # Initialize the state\n",
    "    state = {\n",
    "        \"domain\": query,\n",
    "        \"country\": \"미국\",\n",
    "        \"startup_list\": {},\n",
    "        \"startup_profiles\": {},\n",
    "        \"tech_summary\": {},\n",
    "        \"founder_reputation\": {},\n",
    "        \"market_analysis\": {},\n",
    "        \"legal_risk\": {},\n",
    "        \"competitor_info\": {},\n",
    "        \"investment_decision\": {},\n",
    "        \"final_report\": \"\",\n",
    "    }\n",
    "\n",
    "    result = graph.invoke(state, config)\n",
    "    return result "
   ]
  },
  {
   "cell_type": "code",
   "execution_count": 90,
   "id": "cede9e4e",
   "metadata": {},
   "outputs": [
    {
     "name": "stdout",
     "output_type": "stream",
     "text": [
      "스포츠\n",
      "==========================================\n",
      "\n",
      "\n",
      "{'messages': [AIMessage(content='', additional_kwargs={'tool_calls': [{'id': 'call_d3CmKBNVlkfsXfJxO6pTc28L', 'function': {'arguments': '{\"query\":\"스포츠 시장 동향 및 업계 뉴스\"}', 'name': 'market_research'}, 'type': 'function'}], 'refusal': None}, response_metadata={'token_usage': {'completion_tokens': 24, 'prompt_tokens': 392, 'total_tokens': 416, 'completion_tokens_details': {'accepted_prediction_tokens': 0, 'audio_tokens': 0, 'reasoning_tokens': 0, 'rejected_prediction_tokens': 0}, 'prompt_tokens_details': {'audio_tokens': 0, 'cached_tokens': 0}}, 'model_name': 'gpt-4o-mini-2024-07-18', 'system_fingerprint': 'fp_0392822090', 'id': 'chatcmpl-BPK8V1atj2xWR9L6a3XuAek293NdN', 'finish_reason': 'tool_calls', 'logprobs': None}, id='run-353c938d-ec07-4655-afd8-5dc5900a1c0b-0', tool_calls=[{'name': 'market_research', 'args': {'query': '스포츠 시장 동향 및 업계 뉴스'}, 'id': 'call_d3CmKBNVlkfsXfJxO6pTc28L', 'type': 'tool_call'}], usage_metadata={'input_tokens': 392, 'output_tokens': 24, 'total_tokens': 416, 'input_token_details': {'audio': 0, 'cache_read': 0}, 'output_token_details': {'audio': 0, 'reasoning': 0}}), ToolMessage(content=\"[{'title': '스포츠 분석 시장 규모, 점유율 | 성장 분석 [2032]', 'url': 'https://www.fortunebusinessinsights.com/ko/sports-analytics-market-102217', 'content': '주요 시장 통찰력\\\\n\\\\n글로벌 스포츠 분석 시장 규모는 2024 년에 479 억 달러로 평가되었습니다. 시장은 2025 년 579 억 달러에서 2032 년까지 243 억 달러로 증가하여 예측 기간 동안 22.5%의 CAGR을 나타냅니다.\\\\n\\\\nSports Analytics 도구는 코치, 경영 및 운동 선수가 기술, 전략 및 전반적인 성과를 향상시키는 데 도움이되는 통찰력을 제공합니다. 이 솔루션은 데이터 분석을위한 고급 방법을 제공하여 Win-Loss 레코드의 예측이 다가오는 스포츠 이벤트의 결과를 예측할 수 있도록합니다.\\\\n\\\\n기술은 성과를 향상시키고 상업적 성장을 촉진하며 전체 업계의 참여를 증가시켜 스포츠의 엔터테인먼트, 사회 및 건강상의 이점을 강조합니다. 신생 기업은 혁신적인 아이디어를 도입하고 업계 내에서 특정한 과제를 해결 함으로써이 생태계에서 중요한 역할을합니다.\\\\n\\\\n투자자가 타겟팅 할 수있는 초기 회사 목록 : [...] 우리에게 연락하세요\\\\n\\\\n\\\\n\\\\n+1 833 909 2966 (무료) (우리를)\\\\n\\\\n+44 808 502 0280 (무료) (영국)\\\\n\\\\n+91 744 740 1245 (APAC)\\\\n\\\\n\\\\n\\\\n[email\\\\xa0protected]\\\\n\\\\n이메일을 통해 이 보고서 공유\\\\n\\\\n\\\\n\\\\nGlobal Sports Analytics 시장 규모는 예측 기간 동안 22.5%의 CAGR에서 2025 년 57 억 5 천만 달러에서 2032 억 달러로 증가 할 것으로 예상됩니다.\\\\n\\\\n자세히 알아보기:-\\\\n\\\\n뉴스레터 구독\\\\n\\\\n온라인 신뢰\\\\n\\\\n문의하기\\\\n\\\\n우리와 접촉\\\\n\\\\n정보\\\\n\\\\n© 2025 Fortune Business Insights . All rights reserved\\\\n\\\\n귀하의 경험을 향상시키기 위해.\\\\n\\\\n치과 시장 정보 잠금 해제\\\\n\\\\n시장 통찰력, 동향,\\\\r\\\\n                        부문별 예측 및 경쟁 분석:\\\\n\\\\n감사합니다\\\\n\\\\n우리 보고서에 대한 귀하의 관심을 위해\\\\n\\\\n우리의 컨설팅 서비스를 살펴보는 데 관심이 있으십니까? [...] 아시아 태평양 지역은 예측 기간 동안 가장 높은 CAGR로 성장할 것으로 예상됩니다. 일본, 중국 및 인도를 포함한 국가는 강력한 스포츠 문화 구축에 대한 강력한 수요를 경험할 것으로 예상됩니다. 시장 성장에 기여하는 주요 요인에는 스포츠에 대한 투자 증가, 수많은 스포츠 리그 설립 및 진행중인 디지털화 추세가 포함됩니다. 특히 중국은 2024 년에 시장을 지배했다.\\\\n\\\\n최근 중국의 스포츠 산업 개발 :\\\\n\\\\n유럽\\\\n\\\\n유럽의 스포츠 기술이 지난 몇 년 동안 광범위한 혁신을 통합함으로써 빠르게 발전해 왔기 때문에 유럽은 예측 기간 동안 상당한 시장 성장을 보일 것으로 예상됩니다.  데이터 분석  고급 교육 도구 및 팬 참여 플랫폼에 대한 웨어러블. 독일은 2024 년에 시장을 지배했다.\\\\n\\\\n독일 신생 기업에 대한 주목할만한 투자 :\\\\n\\\\n중동 및 아프리카', 'score': 0.63098115}, {'title': '스포츠 분석 시장 분석 2024-2032: 예측 시장 규모, 상위 세그먼트 및 ...', 'url': 'https://blog.naver.com/technologyupdate/223521719378', 'content': '스포츠 분석 시장은 다양한 스포츠에서 데이터 기반 의사 결정의 채택이 증가함에 따라 상당한 성장을 경험하고 있습니다. 주요 추세 중 하나는 스포츠', 'score': 0.6158511}, {'title': '스포츠 분석 시장 분석 및 2031년까지의 성장 - The Insight Partners', 'url': 'https://www.theinsightpartners.com/ko/reports/sports-analytics-market', 'content': '스포츠 분석 시장 조사 – 규모, 점유율, 개발 및 미래 범위 2031\\\\n\\\\nReport Coverage\\\\n\\\\nRevenue forecast, Company Analysis, Industry landscape, Growth factors, and Trends\\\\n\\\\nSegment Covered\\\\n\\\\nThis text is related  to segments covered.\\\\n\\\\nRegional Scope\\\\n\\\\nNorth America, Europe, Asia Pacific, Middle East & Africa, South & Central America\\\\n\\\\nCountry Scope\\\\n\\\\nThis text is related  to country scope.\\\\n\\\\nTrends and growth analysis reports related to Technology, Media and Telecommunications : READ MORE.. [...] Several associations trade associates, technical forums, institutes, societies and organization are accessed to gain technical as well as market related insights through their publications such as research papers, blogs and press releases related to the studies are referred to get cues about the market. Further,\\\\xa0white papers, journals, magazines, and other news articles published in last 3 years are scrutinized and analyzed to understand the current market trends.', 'score': 0.5889134}, {'title': '스포츠 의류 시장 점유율 및 동향 | 성장 분석, 2032', 'url': 'https://www.fortunebusinessinsights.com/ko/sports-apparel-market-107401', 'content': 'Global Sports Apparel 시장 규모는 2024 년에 2,157 억 달러로 평가되었습니다. 시장은 2032 년 2025 억 달러에서 2032 억 달러로 2032 억 달러로 증가하여 예상 기간 동안 4.41%의 CAGR을 나타냅니다. 북미는 2024 년 38%의 시장 점유율로 스포츠 의류 시장을 지배했습니다.\\\\n\\\\n스포츠 의류는 하이킹, 달리기 및 요가와 같은 신체 활동을 수행하는 동안 착용 한 옷을 나타냅니다. 이 제품들은 남성, 여성 및 어린이의 광범위한 요구에 부응합니다. 소비자는 온라인 및 오프라인 유통 채널을 통해 이러한 제품을 구매할 수 있습니다. [...] 시장은 최근 몇 년 동안 신제품 출시와 인도, 미국 및 기타 국가의 스포츠 활동 참여 증가로 인해 꾸준한 성장률을 관찰 해 왔습니다. 젊은 세대들 사이에서 야외 레크리에이션 활동에 대한 선호도가 증가함에 따라 스포츠 의류에 대한 수요를 불러 일으키는 중요한 요소였습니다. 이러한 측면은 건강 의식 상승, 신제품 출시 및 스포츠에 대한 성향 증가와 함께 예측 기간 동안 글로벌 스포츠 의류 시장 성장을 가속화 할 것입니다.\\\\n\\\\nCOVID-19 충격\\\\n\\\\nCovid-19 Pandemic 동안의 시장 성장에 대한 레크리에이션 활동에 대한 선호도 감소\\\\n\\\\nCovid-19 발병은 세계 경제와 여러 산업에 큰 영향을 미쳤습니다. 이 시나리오는 감염의 확산을 통제하기 위해 전 세계 정부가 강요하고 제한을 초래했습니다. 체육관과 스포츠 단지의 폐쇄로 인해 제품 수요가 크게 감소했습니다. [...] 스포츠 의류 업계의 시장 플레이어는 새로운 출시를 통해 기존 제품 범위를 혁신하는 데 중점을두고 있습니다. 또한 제품에 고급 기술을 도입하여 지역의 입지를 확장하려고 노력하고 있습니다. 제조업체는 또한 스포츠 이벤트 및 리그와 협력하여 더 넓은 고객 도달 범위를 달성하고 있습니다. 예를 들어, 2022 년 5 월 Adidas는 Balenciaga와 협력하여 뉴욕시의 후자 리조트 2023 활주로 쇼에서 새로운 컬렉션을 시작했습니다. Balenciaga의 웹 사이트에서 쇼핑 할 수 있도록 즉시 제공되었습니다. 또한, 텍스처 차단 및 레이어링 ### 12965와 같은 신기술은 예측 기간에 첨단 스포츠 의류에 대한 수요를 향상시킬 것입니다. 예를 들어, 2020 년에 Adidas는 새로운 기술의 개발 인“Strung”을 발표했습니다. 운동 선수 데이터를 동적 성능 자료로 변환하는 최초의 섬유 기술. \\\\n  주요 회사 목록 프로파일', 'score': 0.5726516}, {'title': '[시장보고서]스포츠 애널리틱스 시장 규모, 점유율 및 동향 분석 보고서', 'url': 'https://www.giikorea.co.kr/report/grvi1301219-sports-analytics-market-size-share-trends-analysis.html', 'content': 'Grand View Research, Inc.의 최신 보고서에 따르면, 세계 스포츠 애널리틱스 시장 규모는 2023년부터 2030년까지 25.1%의 CAGR을 나타내고, 2030년에는 63억 4,070만 달러', 'score': 0.5683445}]\", name='market_research', id='766ee228-d7df-43f7-8b8f-bb2c24741833', tool_call_id='call_d3CmKBNVlkfsXfJxO6pTc28L'), AIMessage(content='', additional_kwargs={'tool_calls': [{'id': 'call_WpyfZXE5FC4NSolykglTvBQH', 'function': {'arguments': '{\"query\":\"스포츠 시장 수요 분석\"}', 'name': 'tavily_search_results_json'}, 'type': 'function'}], 'refusal': None}, response_metadata={'token_usage': {'completion_tokens': 24, 'prompt_tokens': 2394, 'total_tokens': 2418, 'completion_tokens_details': {'accepted_prediction_tokens': 0, 'audio_tokens': 0, 'reasoning_tokens': 0, 'rejected_prediction_tokens': 0}, 'prompt_tokens_details': {'audio_tokens': 0, 'cached_tokens': 0}}, 'model_name': 'gpt-4o-mini-2024-07-18', 'system_fingerprint': 'fp_0392822090', 'id': 'chatcmpl-BPK8aG1Xj14fwU3gu3X7fBdj7SeeK', 'finish_reason': 'tool_calls', 'logprobs': None}, id='run-3be5159b-770c-4d97-a347-fc492fd8f2bf-0', tool_calls=[{'name': 'tavily_search_results_json', 'args': {'query': '스포츠 시장 수요 분석'}, 'id': 'call_WpyfZXE5FC4NSolykglTvBQH', 'type': 'tool_call'}], usage_metadata={'input_tokens': 2394, 'output_tokens': 24, 'total_tokens': 2418, 'input_token_details': {'audio': 0, 'cache_read': 0}, 'output_token_details': {'audio': 0, 'reasoning': 0}}), ToolMessage(content='[{\"title\": \"스포츠 분석 시장 분석 2024-2032: 예측 시장 규모, 상위 세그먼트 및 ...\", \"url\": \"https://blog.naver.com/technologyupdate/223521719378\", \"content\": \"스포츠 분석 시장 수요를 주도하는 요인 첫째, 프로 스포츠의 경쟁 심화가 주요 요인입니다. 팀과 조직은 분석을 활용하여 선수 영입, 경기 내 전략 및\", \"score\": 0.7783298}, {\"title\": \"스포츠 분석 시장 규모, 점유율 | 성장 분석 [2032]\", \"url\": \"https://www.fortunebusinessinsights.com/ko/sports-analytics-market-102217\", \"content\": \"주요 시장 통찰력\\\\n\\\\n글로벌 스포츠 분석 시장 규모는 2024 년에 479 억 달러로 평가되었습니다. 시장은 2025 년 579 억 달러에서 2032 년까지 243 억 달러로 증가하여 예측 기간 동안 22.5%의 CAGR을 나타냅니다.\\\\n\\\\nSports Analytics 도구는 코치, 경영 및 운동 선수가 기술, 전략 및 전반적인 성과를 향상시키는 데 도움이되는 통찰력을 제공합니다. 이 솔루션은 데이터 분석을위한 고급 방법을 제공하여 Win-Loss 레코드의 예측이 다가오는 스포츠 이벤트의 결과를 예측할 수 있도록합니다.\\\\n\\\\n기술은 성과를 향상시키고 상업적 성장을 촉진하며 전체 업계의 참여를 증가시켜 스포츠의 엔터테인먼트, 사회 및 건강상의 이점을 강조합니다. 신생 기업은 혁신적인 아이디어를 도입하고 업계 내에서 특정한 과제를 해결 함으로써이 생태계에서 중요한 역할을합니다.\\\\n\\\\n투자자가 타겟팅 할 수있는 초기 회사 목록 : [...] 아시아 태평양 지역은 예측 기간 동안 가장 높은 CAGR로 성장할 것으로 예상됩니다. 일본, 중국 및 인도를 포함한 국가는 강력한 스포츠 문화 구축에 대한 강력한 수요를 경험할 것으로 예상됩니다. 시장 성장에 기여하는 주요 요인에는 스포츠에 대한 투자 증가, 수많은 스포츠 리그 설립 및 진행중인 디지털화 추세가 포함됩니다. 특히 중국은 2024 년에 시장을 지배했다.\\\\n\\\\n최근 중국의 스포츠 산업 개발 :\\\\n\\\\n유럽\\\\n\\\\n유럽의 스포츠 기술이 지난 몇 년 동안 광범위한 혁신을 통합함으로써 빠르게 발전해 왔기 때문에 유럽은 예측 기간 동안 상당한 시장 성장을 보일 것으로 예상됩니다.  데이터 분석  고급 교육 도구 및 팬 참여 플랫폼에 대한 웨어러블. 독일은 2024 년에 시장을 지배했다.\\\\n\\\\n독일 신생 기업에 대한 주목할만한 투자 :\\\\n\\\\n중동 및 아프리카 [...] 따라서 스포츠 분석 시장 성장을 촉진하기 위해 디지털 부상 예방 도구의 통합.\\\\n\\\\n시장 제한\\\\n\\\\n윤리 및 보안 문제는 시장 진보를 제한 할 수 있습니다\\\\n\\\\n스포츠 분석에는 무단 액세스 및 플레이어의 개인 정보 오용에 대한 우려를 제기하는 엄청난 양의 개인 및 전문 데이터를 수집하는 것이 포함됩니다. 데이터 추적은 플레이어 성능에 대한 가치있는 이해를 제공 할 수 있지만 플레이어 개인 정보 및 동의에 대한 불안감이 있습니다. 또한 잘못된 데이터 입력 또는 기술적 인 문제로 인해 문제가 발생할 수 있습니다. 이러한 문제는 팀이나 플레이어의 전반적인 분석에 영향을 미쳐 최종 사용자의 채택을 제한 할 수 있습니다.\\\\n\\\\n시장 기회\\\\n\\\\n새로운 시장 기회를 창출하기 위해 증강 현실을 가진 몰입 형 방송\", \"score\": 0.7548612}, {\"title\": \"스포츠 분석 시장 규모, 추세, 가치, 종합 분석 - Mordor Intelligence\", \"url\": \"https://www.mordorintelligence.kr/industry-reports/sports-analytics-market\", \"content\": \"스포츠 분석 산업은 다양한 스포츠에 걸쳐 인공 지능, 빅 데이터, 머신 러닝을 도입함으로써 상당한 시장 성장을 경험하고 있습니다. 이러한 확장은 주로 향상된 성과 분석, 선수 및 팀 평가, 팬 참여에 대한 필요성에 기인합니다. 축구 및 기타 스포츠 세그먼트는 최적화를 위해 분석을 활용하여 전반적인 시장 가치에 기여하고 있습니다.인지 부족과 숙련된 전문가에 대한 요구와 같은 어려움에도 불구하고 클라우드 기반 솔루션으로의 전환과 스마트 웨어러블과 비디오 분석의 통합은 업계를 앞으로 나아가게 하고 있습니다. 북미는 기술 발전과 주요 시장 리더의 존재 덕분에 시장 점유율에서 선두를 달리고 있습니다.산업 분석은 유망한 시장 동향과 커넥티드 기술의 증가하는 사용을 강조하며, 이는 더 많은 혁신을 이끌 것으로 기대됩니다. 시장 전망은 스포츠 분석 산업에 대한 긍정적인 전망을 시사하며, 상당한 성장률과 시장 예측은 지속적인 확장을 나타냅니다.Mordor Intelligence™의 산업 보고서와 [...] 스포츠 분석 시장 뉴스\\\\n\\\\n스포츠 분석 시장 보고서 - 목차\\\\n\\\\n1. 소개\\\\n\\\\n2. 연구 방법론\\\\n\\\\n3. 행정상 개요\\\\n\\\\n4. 시장 통찰력\\\\n\\\\n5. 시장 역 동성\\\\n\\\\n6. 시장 세분화\\\\n\\\\n7. 경쟁 구도\\\\n\\\\n8. 투자 분석\\\\n\\\\n9. 시장 기회 및 미래 동향\\\\n\\\\n스포츠 분석 산업 세분화\\\\n\\\\n스포츠 분석은 조직화된 과거 데이터의 관리, 해당 데이터를 사용하는 예측 분석 모델의 적용, 정보 시스템을 사용하여 의사 결정자를 업데이트하고 조직이 경기장에서 경쟁 우위를 확보하도록 돕는 것입니다.\\\\n\\\\n스포츠 분석 시장은 스포츠(미식축구, 크리켓, 하키, 농구, 미식축구), 지리(북미, 유럽, 아시아 태평양, 라틴 아메리카, 중동 및 아프리카)별로 분류됩니다. 시장 규모와 예측은 위의 모든 부문에 대해 USD 가치 기준으로 제공됩니다. [...] 스포츠 분석 시장 규모는 3.73년에 2025억 13.88천만 달러로 추산되며, 2030년까지 30.04억 2025천만 달러에 도달할 것으로 예상되며, 예측 기간(2030-XNUMX) 동안 연평균 성장률은 XNUMX%입니다.\\\\n\\\\n스포츠 분석 시장 동향\\\\n\\\\n축구 스포츠는 상당한 시장 점유율을 차지할 것으로 예상됩니다\\\\n\\\\n아시아 태평양은 가장 빠르게 성장하는 시장이 될 것으로 예상됩니다\\\\n\\\\n스포츠 분석 산업 개요\\\\n\\\\n\\\\n\\\\n스포츠 분석 시장은 IBM Corporation, SAP SE, SAS Institute Inc., Opta Sports 및 Trumedia Networks와 같은 주요 업체가 존재하면서 매우 세분화되어 있습니다. 시장의 플레이어들은 제품 제공을 강화하고 지속 가능한 경쟁 우위를 확보하기 위해 파트너십 및 인수와 같은 전략을 채택하고 있습니다.\\\\n\\\\n스포츠 분석 시장 리더\\\\n\\\\nIBM 기업\\\\n\\\\nSAP SE\\\\n\\\\nSAS Institute Inc.\\\\n\\\\n옵타스포츠\\\\n\\\\n트루미디어 네트웍스\", \"score\": 0.7128128}, {\"title\": \"스포츠 용품 시장 규모 및 점유율, 성장 추세 2037 - Research Nester\", \"url\": \"https://www.researchnester.com/kr/reports/sporting-goods-market/5871\", \"content\": \"제품별 스포츠 용품 시장 규모 및 점유율(어드벤처 스포츠, 구기 게임, 피트니스/근력 강화 장비, 운동 훈련 장비) 최종 사용자(초급, 중급, 전문가); 유통 채널(대형마트/슈퍼마켓, 편의점/백화점, 전문점, 온라인 상점) - 글로벌 수요 및 공급 분석, 성장 예측, 통계 보고서 2025-2037\\\\n\\\\n2025~2037년 글로벌 시장 규모, 예측 및 추세 하이라이트\\\\n\\\\n스포츠 용품 시장 규모는 2024년에 7,583억 3천만 달러로 평가되었으며 2037년에는 2조 2,400억 달러를 초과하여 예측 기간(2025~2037년) 동안 연평균 성장률(CAGR) 8.7% 이상으로 확장될 것으로 예상됩니다. 2025년 스포츠 용품 산업 규모는 8,144억 1천만 달러로 평가됩니다. [...] 이 연구 보고서를 귀하의 요구 사항에 맞게 맞춤 설정하시겠습니까? 저희 연구 팀이 귀하의 요구 사항을 반영하여 효과적인 비즈니스 결정을 내리는 데 필요한 정보를 제공합니다.\\\\n\\\\n스포츠 용품 산업 - 지역 개요\\\\n\\\\n북미 시장 통계\\\\n\\\\n북미 산업은 2037년까지 35%라는 가장 큰 수익 점유율을 차지할 것으로 예상됩니다. 이 지역의 시장 성장도 방대한 인구와 풍요로운 지위로 인해 예상됩니다. 또한 미국은 주요 과목보다 스포츠에 어린이 1인당 훨씬 더 많은 돈을 지출합니다. 예를 들어, 미국에서는 매년 70억 달러 이상이 스포츠에 지출됩니다.\\\\n\\\\n이 외에도 스포츠는 미국 문화의 기본 구성 요소이며 고대부터 존재해 왔으며 향후 시장 성장을 주도할 것으로 예상됩니다. 추산에 따르면 미국에서 청소년 스포츠에 드는 연간 비용은 가구당 350억 달러가 넘습니다.\\\\n\\\\nAPAC 시장 분석\", \"score\": 0.6426349}, {\"title\": \"스포츠 분석 시장 분석 및 2031년까지의 성장 - The Insight Partners\", \"url\": \"https://www.theinsightpartners.com/ko/reports/sports-analytics-market\", \"content\": \"The primarily interview analysis comprise of data obtained from industry participants interview and answers to survey questions gathered by in-house primary team. [...] The market findings and base year market size calculations are validated from supply as well as demand side. Demand side validations are based on macro-economic factor analysis and benchmarks for respective regions and countries. In case of supply side validations, revenues of major companies are estimated (in case not available) based on industry benchmark, approximate number of employees, product portfolio, and primary interviews revenues are gathered. Further revenue from target [...] The “Table of Contents” is formulated by listing and analyzing more than 25 - 30 companies operating in the market ecosystem across geographies. However, we profile only 10 companies as a standard practice in our syndicate reports. These 10 companies comprise leading, emerging, and regional players. Nonetheless, our analysis is not restricted to the 10 listed companies, we also analyze other companies present in the market to develop a holistic view and understand the prevailing trends. The\", \"score\": 0.5976789}]', name='tavily_search_results_json', id='0e2b6b7e-80e9-49de-a9af-f148c8649b27', tool_call_id='call_WpyfZXE5FC4NSolykglTvBQH', artifact={'query': '스포츠 시장 수요 분석', 'follow_up_questions': None, 'answer': None, 'images': [], 'results': [{'url': 'https://blog.naver.com/technologyupdate/223521719378', 'title': '스포츠 분석 시장 분석 2024-2032: 예측 시장 규모, 상위 세그먼트 및 ...', 'content': '스포츠 분석 시장 수요를 주도하는 요인 첫째, 프로 스포츠의 경쟁 심화가 주요 요인입니다. 팀과 조직은 분석을 활용하여 선수 영입, 경기 내 전략 및', 'score': 0.7783298, 'raw_content': None}, {'url': 'https://www.fortunebusinessinsights.com/ko/sports-analytics-market-102217', 'title': '스포츠 분석 시장 규모, 점유율 | 성장 분석 [2032]', 'content': '주요 시장 통찰력\\n\\n글로벌 스포츠 분석 시장 규모는 2024 년에 479 억 달러로 평가되었습니다. 시장은 2025 년 579 억 달러에서 2032 년까지 243 억 달러로 증가하여 예측 기간 동안 22.5%의 CAGR을 나타냅니다.\\n\\nSports Analytics 도구는 코치, 경영 및 운동 선수가 기술, 전략 및 전반적인 성과를 향상시키는 데 도움이되는 통찰력을 제공합니다. 이 솔루션은 데이터 분석을위한 고급 방법을 제공하여 Win-Loss 레코드의 예측이 다가오는 스포츠 이벤트의 결과를 예측할 수 있도록합니다.\\n\\n기술은 성과를 향상시키고 상업적 성장을 촉진하며 전체 업계의 참여를 증가시켜 스포츠의 엔터테인먼트, 사회 및 건강상의 이점을 강조합니다. 신생 기업은 혁신적인 아이디어를 도입하고 업계 내에서 특정한 과제를 해결 함으로써이 생태계에서 중요한 역할을합니다.\\n\\n투자자가 타겟팅 할 수있는 초기 회사 목록 : [...] 아시아 태평양 지역은 예측 기간 동안 가장 높은 CAGR로 성장할 것으로 예상됩니다. 일본, 중국 및 인도를 포함한 국가는 강력한 스포츠 문화 구축에 대한 강력한 수요를 경험할 것으로 예상됩니다. 시장 성장에 기여하는 주요 요인에는 스포츠에 대한 투자 증가, 수많은 스포츠 리그 설립 및 진행중인 디지털화 추세가 포함됩니다. 특히 중국은 2024 년에 시장을 지배했다.\\n\\n최근 중국의 스포츠 산업 개발 :\\n\\n유럽\\n\\n유럽의 스포츠 기술이 지난 몇 년 동안 광범위한 혁신을 통합함으로써 빠르게 발전해 왔기 때문에 유럽은 예측 기간 동안 상당한 시장 성장을 보일 것으로 예상됩니다.  데이터 분석  고급 교육 도구 및 팬 참여 플랫폼에 대한 웨어러블. 독일은 2024 년에 시장을 지배했다.\\n\\n독일 신생 기업에 대한 주목할만한 투자 :\\n\\n중동 및 아프리카 [...] 따라서 스포츠 분석 시장 성장을 촉진하기 위해 디지털 부상 예방 도구의 통합.\\n\\n시장 제한\\n\\n윤리 및 보안 문제는 시장 진보를 제한 할 수 있습니다\\n\\n스포츠 분석에는 무단 액세스 및 플레이어의 개인 정보 오용에 대한 우려를 제기하는 엄청난 양의 개인 및 전문 데이터를 수집하는 것이 포함됩니다. 데이터 추적은 플레이어 성능에 대한 가치있는 이해를 제공 할 수 있지만 플레이어 개인 정보 및 동의에 대한 불안감이 있습니다. 또한 잘못된 데이터 입력 또는 기술적 인 문제로 인해 문제가 발생할 수 있습니다. 이러한 문제는 팀이나 플레이어의 전반적인 분석에 영향을 미쳐 최종 사용자의 채택을 제한 할 수 있습니다.\\n\\n시장 기회\\n\\n새로운 시장 기회를 창출하기 위해 증강 현실을 가진 몰입 형 방송', 'score': 0.7548612, 'raw_content': None}, {'url': 'https://www.mordorintelligence.kr/industry-reports/sports-analytics-market', 'title': '스포츠 분석 시장 규모, 추세, 가치, 종합 분석 - Mordor Intelligence', 'content': '스포츠 분석 산업은 다양한 스포츠에 걸쳐 인공 지능, 빅 데이터, 머신 러닝을 도입함으로써 상당한 시장 성장을 경험하고 있습니다. 이러한 확장은 주로 향상된 성과 분석, 선수 및 팀 평가, 팬 참여에 대한 필요성에 기인합니다. 축구 및 기타 스포츠 세그먼트는 최적화를 위해 분석을 활용하여 전반적인 시장 가치에 기여하고 있습니다.인지 부족과 숙련된 전문가에 대한 요구와 같은 어려움에도 불구하고 클라우드 기반 솔루션으로의 전환과 스마트 웨어러블과 비디오 분석의 통합은 업계를 앞으로 나아가게 하고 있습니다. 북미는 기술 발전과 주요 시장 리더의 존재 덕분에 시장 점유율에서 선두를 달리고 있습니다.산업 분석은 유망한 시장 동향과 커넥티드 기술의 증가하는 사용을 강조하며, 이는 더 많은 혁신을 이끌 것으로 기대됩니다. 시장 전망은 스포츠 분석 산업에 대한 긍정적인 전망을 시사하며, 상당한 성장률과 시장 예측은 지속적인 확장을 나타냅니다.Mordor Intelligence™의 산업 보고서와 [...] 스포츠 분석 시장 뉴스\\n\\n스포츠 분석 시장 보고서 - 목차\\n\\n1. 소개\\n\\n2. 연구 방법론\\n\\n3. 행정상 개요\\n\\n4. 시장 통찰력\\n\\n5. 시장 역 동성\\n\\n6. 시장 세분화\\n\\n7. 경쟁 구도\\n\\n8. 투자 분석\\n\\n9. 시장 기회 및 미래 동향\\n\\n스포츠 분석 산업 세분화\\n\\n스포츠 분석은 조직화된 과거 데이터의 관리, 해당 데이터를 사용하는 예측 분석 모델의 적용, 정보 시스템을 사용하여 의사 결정자를 업데이트하고 조직이 경기장에서 경쟁 우위를 확보하도록 돕는 것입니다.\\n\\n스포츠 분석 시장은 스포츠(미식축구, 크리켓, 하키, 농구, 미식축구), 지리(북미, 유럽, 아시아 태평양, 라틴 아메리카, 중동 및 아프리카)별로 분류됩니다. 시장 규모와 예측은 위의 모든 부문에 대해 USD 가치 기준으로 제공됩니다. [...] 스포츠 분석 시장 규모는 3.73년에 2025억 13.88천만 달러로 추산되며, 2030년까지 30.04억 2025천만 달러에 도달할 것으로 예상되며, 예측 기간(2030-XNUMX) 동안 연평균 성장률은 XNUMX%입니다.\\n\\n스포츠 분석 시장 동향\\n\\n축구 스포츠는 상당한 시장 점유율을 차지할 것으로 예상됩니다\\n\\n아시아 태평양은 가장 빠르게 성장하는 시장이 될 것으로 예상됩니다\\n\\n스포츠 분석 산업 개요\\n\\n\\n\\n스포츠 분석 시장은 IBM Corporation, SAP SE, SAS Institute Inc., Opta Sports 및 Trumedia Networks와 같은 주요 업체가 존재하면서 매우 세분화되어 있습니다. 시장의 플레이어들은 제품 제공을 강화하고 지속 가능한 경쟁 우위를 확보하기 위해 파트너십 및 인수와 같은 전략을 채택하고 있습니다.\\n\\n스포츠 분석 시장 리더\\n\\nIBM 기업\\n\\nSAP SE\\n\\nSAS Institute Inc.\\n\\n옵타스포츠\\n\\n트루미디어 네트웍스', 'score': 0.7128128, 'raw_content': None}, {'url': 'https://www.researchnester.com/kr/reports/sporting-goods-market/5871', 'title': '스포츠 용품 시장 규모 및 점유율, 성장 추세 2037 - Research Nester', 'content': '제품별 스포츠 용품 시장 규모 및 점유율(어드벤처 스포츠, 구기 게임, 피트니스/근력 강화 장비, 운동 훈련 장비) 최종 사용자(초급, 중급, 전문가); 유통 채널(대형마트/슈퍼마켓, 편의점/백화점, 전문점, 온라인 상점) - 글로벌 수요 및 공급 분석, 성장 예측, 통계 보고서 2025-2037\\n\\n2025~2037년 글로벌 시장 규모, 예측 및 추세 하이라이트\\n\\n스포츠 용품 시장 규모는 2024년에 7,583억 3천만 달러로 평가되었으며 2037년에는 2조 2,400억 달러를 초과하여 예측 기간(2025~2037년) 동안 연평균 성장률(CAGR) 8.7% 이상으로 확장될 것으로 예상됩니다. 2025년 스포츠 용품 산업 규모는 8,144억 1천만 달러로 평가됩니다. [...] 이 연구 보고서를 귀하의 요구 사항에 맞게 맞춤 설정하시겠습니까? 저희 연구 팀이 귀하의 요구 사항을 반영하여 효과적인 비즈니스 결정을 내리는 데 필요한 정보를 제공합니다.\\n\\n스포츠 용품 산업 - 지역 개요\\n\\n북미 시장 통계\\n\\n북미 산업은 2037년까지 35%라는 가장 큰 수익 점유율을 차지할 것으로 예상됩니다. 이 지역의 시장 성장도 방대한 인구와 풍요로운 지위로 인해 예상됩니다. 또한 미국은 주요 과목보다 스포츠에 어린이 1인당 훨씬 더 많은 돈을 지출합니다. 예를 들어, 미국에서는 매년 70억 달러 이상이 스포츠에 지출됩니다.\\n\\n이 외에도 스포츠는 미국 문화의 기본 구성 요소이며 고대부터 존재해 왔으며 향후 시장 성장을 주도할 것으로 예상됩니다. 추산에 따르면 미국에서 청소년 스포츠에 드는 연간 비용은 가구당 350억 달러가 넘습니다.\\n\\nAPAC 시장 분석', 'score': 0.6426349, 'raw_content': None}, {'url': 'https://www.theinsightpartners.com/ko/reports/sports-analytics-market', 'title': '스포츠 분석 시장 분석 및 2031년까지의 성장 - The Insight Partners', 'content': 'The primarily interview analysis comprise of data obtained from industry participants interview and answers to survey questions gathered by in-house primary team. [...] The market findings and base year market size calculations are validated from supply as well as demand side. Demand side validations are based on macro-economic factor analysis and benchmarks for respective regions and countries. In case of supply side validations, revenues of major companies are estimated (in case not available) based on industry benchmark, approximate number of employees, product portfolio, and primary interviews revenues are gathered. Further revenue from target [...] The “Table of Contents” is formulated by listing and analyzing more than 25 - 30 companies operating in the market ecosystem across geographies. However, we profile only 10 companies as a standard practice in our syndicate reports. These 10 companies comprise leading, emerging, and regional players. Nonetheless, our analysis is not restricted to the 10 listed companies, we also analyze other companies present in the market to develop a holistic view and understand the prevailing trends. The', 'score': 0.5976789, 'raw_content': None}], 'response_time': 1.82}), AIMessage(content='### 종합적인 스포츠 시장 분석\\n\\n#### 1. 시장 동향\\n스포츠 시장은 최근 몇 년 동안 급격한 성장을 경험하고 있으며, 특히 스포츠 분석 및 스포츠 용품 분야에서 두드러진 성과를 보이고 있습니다. \\n\\n- **스포츠 분석 시장**: 글로벌 스포츠 분석 시장은 2024년에 479억 달러로 평가되며, 2032년까지 243억 달러로 증가할 것으로 예상됩니다. 이 시장은 연평균 성장률(CAGR) 22.5%를 기록할 것으로 보입니다. 데이터 기반 의사 결정의 채택이 증가하면서 팀과 조직은 선수 영입, 경기 내 전략 및 성과 향상을 위해 분석 도구를 활용하고 있습니다. 특히 아시아 태평양 지역이 가장 높은 성장률을 보일 것으로 예상되며, 이는 스포츠에 대한 투자 증가와 디지털화 추세에 기인합니다.\\n\\n- **스포츠 용품 시장**: 스포츠 용품 시장은 2024년에 7,583억 달러로 평가되며, 2037년에는 2조 2,400억 달러를 초과할 것으로 예상됩니다. 이 시장은 연평균 성장률 8.7% 이상으로 확장될 것으로 보입니다. 특히 북미 시장이 가장 큰 점유율을 차지할 것으로 예상되며, 이는 스포츠에 대한 높은 소비와 문화적 중요성 때문입니다.\\n\\n#### 2. 시장 수요\\n스포츠 시장의 수요는 여러 요인에 의해 주도되고 있습니다.\\n\\n- **경쟁 심화**: 프로 스포츠의 경쟁이 심화됨에 따라 팀과 조직은 데이터 분석을 통해 성과를 극대화하려고 합니다. 이는 선수 영입, 경기 전략 및 훈련 방법에 대한 의사 결정을 지원합니다.\\n\\n- **건강 및 웰빙 트렌드**: 건강과 웰빙에 대한 관심이 높아짐에 따라 스포츠 의류와 용품에 대한 수요가 증가하고 있습니다. 특히 젊은 세대 사이에서 야외 레크리에이션 활동에 대한 선호도가 높아지고 있습니다.\\n\\n- **기술 발전**: 인공지능, 빅 데이터, 머신 러닝 등의 기술이 스포츠 분석에 도입되면서 성과 분석과 팬 참여가 향상되고 있습니다. 이는 스포츠 분석 시장의 성장을 더욱 촉진하고 있습니다.\\n\\n#### 3. 시장 기회\\n스포츠 시장은 다양한 기회를 제공합니다.\\n\\n- **디지털화**: 스포츠 분석 도구와 플랫폼의 디지털화가 진행됨에 따라 새로운 비즈니스 모델과 서비스가 등장하고 있습니다. 이는 스타트업에게 혁신적인 아이디어를 도입할 기회를 제공합니다.\\n\\n- **글로벌화**: 아시아 태평양 지역을 포함한 글로벌 시장에서의 성장 가능성이 높습니다. 특히 중국, 일본, 인도 등에서 강력한 스포츠 문화가 형성되고 있습니다.\\n\\n- **팬 경험 향상**: 증강 현실(AR)과 가상 현실(VR) 기술을 활용한 몰입형 방송 및 팬 경험 향상은 새로운 시장 기회를 창출할 수 있습니다.\\n\\n#### 4. 결론\\n스포츠 시장은 빠르게 성장하고 있으며, 특히 데이터 분석과 기술 혁신이 중요한 역할을 하고 있습니다. 스타트업은 이러한 시장 동향을 활용하여 새로운 제품과 서비스를 개발할 수 있는 기회를 가질 수 있습니다. 시장의 성장 가능성과 소비자의 반응을 고려할 때, 스포츠 분야에서의 투자는 긍정적인 전망을 가지고 있습니다.', additional_kwargs={'refusal': None}, response_metadata={'token_usage': {'completion_tokens': 753, 'prompt_tokens': 4845, 'total_tokens': 5598, 'completion_tokens_details': {'accepted_prediction_tokens': 0, 'audio_tokens': 0, 'reasoning_tokens': 0, 'rejected_prediction_tokens': 0}, 'prompt_tokens_details': {'audio_tokens': 0, 'cached_tokens': 2304}}, 'model_name': 'gpt-4o-mini-2024-07-18', 'system_fingerprint': 'fp_0392822090', 'id': 'chatcmpl-BPK8e97o0B0vftbWF6UVm75ED6vkz', 'finish_reason': 'stop', 'logprobs': None}, id='run-e2713f1f-6cad-4612-a285-385f7b42be36-0', usage_metadata={'input_tokens': 4845, 'output_tokens': 753, 'total_tokens': 5598, 'input_token_details': {'audio': 0, 'cache_read': 2304}, 'output_token_details': {'audio': 0, 'reasoning': 0}})]}\n",
      "==========================================\n",
      "\n",
      "\n",
      "{'domain': '스포츠', 'country': '미국', 'startup_list': {}, 'startup_profiles': {}, 'tech_summary': {}, 'founder_reputation': {}, 'market_analysis': {'general': '### 종합적인 스포츠 시장 분석\\n\\n#### 1. 시장 동향\\n스포츠 시장은 최근 몇 년 동안 급격한 성장을 경험하고 있으며, 특히 스포츠 분석 및 스포츠 용품 분야에서 두드러진 성과를 보이고 있습니다. \\n\\n- **스포츠 분석 시장**: 글로벌 스포츠 분석 시장은 2024년에 479억 달러로 평가되며, 2032년까지 243억 달러로 증가할 것으로 예상됩니다. 이 시장은 연평균 성장률(CAGR) 22.5%를 기록할 것으로 보입니다. 데이터 기반 의사 결정의 채택이 증가하면서 팀과 조직은 선수 영입, 경기 내 전략 및 성과 향상을 위해 분석 도구를 활용하고 있습니다. 특히 아시아 태평양 지역이 가장 높은 성장률을 보일 것으로 예상되며, 이는 스포츠에 대한 투자 증가와 디지털화 추세에 기인합니다.\\n\\n- **스포츠 용품 시장**: 스포츠 용품 시장은 2024년에 7,583억 달러로 평가되며, 2037년에는 2조 2,400억 달러를 초과할 것으로 예상됩니다. 이 시장은 연평균 성장률 8.7% 이상으로 확장될 것으로 보입니다. 특히 북미 시장이 가장 큰 점유율을 차지할 것으로 예상되며, 이는 스포츠에 대한 높은 소비와 문화적 중요성 때문입니다.\\n\\n#### 2. 시장 수요\\n스포츠 시장의 수요는 여러 요인에 의해 주도되고 있습니다.\\n\\n- **경쟁 심화**: 프로 스포츠의 경쟁이 심화됨에 따라 팀과 조직은 데이터 분석을 통해 성과를 극대화하려고 합니다. 이는 선수 영입, 경기 전략 및 훈련 방법에 대한 의사 결정을 지원합니다.\\n\\n- **건강 및 웰빙 트렌드**: 건강과 웰빙에 대한 관심이 높아짐에 따라 스포츠 의류와 용품에 대한 수요가 증가하고 있습니다. 특히 젊은 세대 사이에서 야외 레크리에이션 활동에 대한 선호도가 높아지고 있습니다.\\n\\n- **기술 발전**: 인공지능, 빅 데이터, 머신 러닝 등의 기술이 스포츠 분석에 도입되면서 성과 분석과 팬 참여가 향상되고 있습니다. 이는 스포츠 분석 시장의 성장을 더욱 촉진하고 있습니다.\\n\\n#### 3. 시장 기회\\n스포츠 시장은 다양한 기회를 제공합니다.\\n\\n- **디지털화**: 스포츠 분석 도구와 플랫폼의 디지털화가 진행됨에 따라 새로운 비즈니스 모델과 서비스가 등장하고 있습니다. 이는 스타트업에게 혁신적인 아이디어를 도입할 기회를 제공합니다.\\n\\n- **글로벌화**: 아시아 태평양 지역을 포함한 글로벌 시장에서의 성장 가능성이 높습니다. 특히 중국, 일본, 인도 등에서 강력한 스포츠 문화가 형성되고 있습니다.\\n\\n- **팬 경험 향상**: 증강 현실(AR)과 가상 현실(VR) 기술을 활용한 몰입형 방송 및 팬 경험 향상은 새로운 시장 기회를 창출할 수 있습니다.\\n\\n#### 4. 결론\\n스포츠 시장은 빠르게 성장하고 있으며, 특히 데이터 분석과 기술 혁신이 중요한 역할을 하고 있습니다. 스타트업은 이러한 시장 동향을 활용하여 새로운 제품과 서비스를 개발할 수 있는 기회를 가질 수 있습니다. 시장의 성장 가능성과 소비자의 반응을 고려할 때, 스포츠 분야에서의 투자는 긍정적인 전망을 가지고 있습니다.'}, 'legal_risk': {}, 'competitor_info': {}, 'investment_decision': {}, 'final_report': ''}\n"
     ]
    }
   ],
   "source": [
    "# Example usage\n",
    "result = run_market_analysis(input())\n",
    "print(result)"
   ]
  }
 ],
 "metadata": {
  "kernelspec": {
   "display_name": "langchain-kr-tHLPvKyL-py3.11",
   "language": "python",
   "name": "python3"
  },
  "language_info": {
   "codemirror_mode": {
    "name": "ipython",
    "version": 3
   },
   "file_extension": ".py",
   "mimetype": "text/x-python",
   "name": "python",
   "nbconvert_exporter": "python",
   "pygments_lexer": "ipython3",
   "version": "3.11.9"
  }
 },
 "nbformat": 4,
 "nbformat_minor": 5
}
