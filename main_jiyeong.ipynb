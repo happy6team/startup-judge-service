{
 "cells": [
  {
   "cell_type": "code",
   "execution_count": 15,
   "id": "6a8413b2",
   "metadata": {},
   "outputs": [],
   "source": [
    "from state import AgentState\n",
    "\n",
    "from agents.legal_risk_analysis_agent import legal_risk_analysis_agent\n",
    "import agents.scored_agent\n",
    "from agents.startup_explorer_agent import startup_explorer_agent\n",
    "from agents.tech_analysis_agent import tech_analysis_agent"
   ]
  },
  {
   "cell_type": "code",
   "execution_count": null,
   "id": "fa9d7064",
   "metadata": {},
   "outputs": [],
   "source": []
  },
  {
   "cell_type": "code",
   "execution_count": null,
   "id": "a7aed70e",
   "metadata": {},
   "outputs": [],
   "source": [
    "import asyncio\n",
    "import random\n",
    "\n",
    "async def tech_analysis_agent(company, domain, country):\n",
    "    await asyncio.sleep(random.uniform(0.5, 1.5))\n",
    "    return f\"[Tech] {company}의 기술 분석 결과입니다.\"\n",
    "\n",
    "async def founder_explorer_agent(company, domain, country):\n",
    "    await asyncio.sleep(random.uniform(0.5, 1.5))\n",
    "    return f\"[Founder] {company} 창업자 평판 분석 완료.\"\n",
    "\n",
    "async def market_analysis_agent(company, domain, country):\n",
    "    await asyncio.sleep(random.uniform(0.5, 1.5))\n",
    "    return f\"[Market] {company}의 시장 분석 결과입니다.\"\n",
    "\n",
    "async def competitor_analysis_agent(company, domain, country):\n",
    "    await asyncio.sleep(random.uniform(0.5, 1.5))\n",
    "    return f\"[Competitor] {company} 경쟁사 분석 결과입니다.\"\n",
    "\n",
    "async def legal_risk_analysis_agent(company, domain, country, tech_result):\n",
    "    await asyncio.sleep(random.uniform(0.5, 1.5))\n",
    "    return f\"[Competitor] {company} 경쟁사 분석 결과입니다.\""
   ]
  },
  {
   "cell_type": "code",
   "execution_count": 20,
   "id": "21cce188",
   "metadata": {},
   "outputs": [],
   "source": [
    "import asyncio\n",
    "\n",
    "\n",
    "async def analyze_company(company, domain, country):\n",
    "    # tech_analysis 백그라운드 실행\n",
    "    tech_task = asyncio.create_task(tech_analysis_agent(company))\n",
    "\n",
    "    # 나머지 에이전트 동시 실행\n",
    "    founder_task = asyncio.create_task(founder_explorer_agent(company, domain, country))\n",
    "    market_task = asyncio.create_task(market_analysis_agent(company, domain, country))\n",
    "    competitor_task = asyncio.create_task(competitor_analysis_agent(company, domain, country))\n",
    "\n",
    "    # tech 완료 기다렸다가 legal 시작\n",
    "    tech_result = await tech_task\n",
    "    legal_result = await legal_risk_analysis_agent(company, domain, country, tech_result)\n",
    "\n",
    "    # 나머지 결과 대기\n",
    "    founder_result = await founder_task\n",
    "    market_result = await market_task\n",
    "    competitor_result = await competitor_task\n",
    "\n",
    "    return {\n",
    "        \"company\" : company, \n",
    "        \"tech_summary\": tech_result,\n",
    "        \"founder_reputation\": founder_result,\n",
    "        \"market_analysis\": market_result,\n",
    "        \"legal_risk\": legal_result,\n",
    "        \"competitor_info\": competitor_result\n",
    "    }"
   ]
  },
  {
   "cell_type": "code",
   "execution_count": 22,
   "id": "a457e45a",
   "metadata": {},
   "outputs": [
    {
     "ename": "GraphRecursionError",
     "evalue": "Recursion limit of 10 reached without hitting a stop condition. You can increase the limit by setting the `recursion_limit` config key.",
     "output_type": "error",
     "traceback": [
      "\u001b[0;31m---------------------------------------------------------------------------\u001b[0m",
      "\u001b[0;31mGraphRecursionError\u001b[0m                       Traceback (most recent call last)",
      "Cell \u001b[0;32mIn[22], line 1\u001b[0m\n\u001b[0;32m----> 1\u001b[0m result \u001b[38;5;241m=\u001b[39m \u001b[38;5;28;01mawait\u001b[39;00m analyze_company(\u001b[38;5;124m\"\u001b[39m\u001b[38;5;124m뤼튼테크놀로지\u001b[39m\u001b[38;5;124m\"\u001b[39m, \u001b[38;5;124m\"\u001b[39m\u001b[38;5;124mai chatbot\u001b[39m\u001b[38;5;124m\"\u001b[39m, \u001b[38;5;124m\"\u001b[39m\u001b[38;5;124mglobal\u001b[39m\u001b[38;5;124m\"\u001b[39m)\n\u001b[1;32m      2\u001b[0m result\n",
      "Cell \u001b[0;32mIn[20], line 14\u001b[0m, in \u001b[0;36manalyze_company\u001b[0;34m(company, domain, country)\u001b[0m\n\u001b[1;32m     11\u001b[0m competitor_task \u001b[38;5;241m=\u001b[39m asyncio\u001b[38;5;241m.\u001b[39mcreate_task(competitor_analysis_agent(company, domain, country))\n\u001b[1;32m     13\u001b[0m \u001b[38;5;66;03m# tech 완료 기다렸다가 legal 시작\u001b[39;00m\n\u001b[0;32m---> 14\u001b[0m tech_result \u001b[38;5;241m=\u001b[39m \u001b[38;5;28;01mawait\u001b[39;00m tech_task\n\u001b[1;32m     15\u001b[0m legal_result \u001b[38;5;241m=\u001b[39m \u001b[38;5;28;01mawait\u001b[39;00m legal_risk_analysis_agent(company, domain, country, tech_result)\n\u001b[1;32m     17\u001b[0m \u001b[38;5;66;03m# 나머지 결과 대기\u001b[39;00m\n",
      "File \u001b[0;32m~/Documents/GitHub/startup-judge-service/agents/tech_analysis_agent.py:205\u001b[0m, in \u001b[0;36mtech_analysis_agent\u001b[0;34m(company)\u001b[0m\n\u001b[1;32m    202\u001b[0m inputs \u001b[38;5;241m=\u001b[39m TechSummaryAgent(question\u001b[38;5;241m=\u001b[39mcompany)\n\u001b[1;32m    204\u001b[0m \u001b[38;5;66;03m# 그래프 실행\u001b[39;00m\n\u001b[0;32m--> 205\u001b[0m result \u001b[38;5;241m=\u001b[39m \u001b[38;5;28;01mawait\u001b[39;00m app\u001b[38;5;241m.\u001b[39mainvoke(inputs, config)\n\u001b[1;32m    207\u001b[0m \u001b[38;5;66;03m# 결과에서 messages 리스트 가져오기\u001b[39;00m\n\u001b[1;32m    208\u001b[0m messages \u001b[38;5;241m=\u001b[39m result\u001b[38;5;241m.\u001b[39mget(\u001b[38;5;124m\"\u001b[39m\u001b[38;5;124mmessages\u001b[39m\u001b[38;5;124m\"\u001b[39m, [])\n",
      "File \u001b[0;32m~/.pyenv/versions/3.11.11/lib/python3.11/site-packages/langgraph/pregel/__init__.py:1398\u001b[0m, in \u001b[0;36mPregel.ainvoke\u001b[0;34m(self, input, config, stream_mode, output_keys, interrupt_before, interrupt_after, debug, **kwargs)\u001b[0m\n\u001b[1;32m   1396\u001b[0m \u001b[38;5;28;01melse\u001b[39;00m:\n\u001b[1;32m   1397\u001b[0m     chunks \u001b[38;5;241m=\u001b[39m []\n\u001b[0;32m-> 1398\u001b[0m \u001b[38;5;28;01masync\u001b[39;00m \u001b[38;5;28;01mfor\u001b[39;00m chunk \u001b[38;5;129;01min\u001b[39;00m \u001b[38;5;28mself\u001b[39m\u001b[38;5;241m.\u001b[39mastream(\n\u001b[1;32m   1399\u001b[0m     \u001b[38;5;28minput\u001b[39m,\n\u001b[1;32m   1400\u001b[0m     config,\n\u001b[1;32m   1401\u001b[0m     stream_mode\u001b[38;5;241m=\u001b[39mstream_mode,\n\u001b[1;32m   1402\u001b[0m     output_keys\u001b[38;5;241m=\u001b[39moutput_keys,\n\u001b[1;32m   1403\u001b[0m     interrupt_before\u001b[38;5;241m=\u001b[39minterrupt_before,\n\u001b[1;32m   1404\u001b[0m     interrupt_after\u001b[38;5;241m=\u001b[39minterrupt_after,\n\u001b[1;32m   1405\u001b[0m     debug\u001b[38;5;241m=\u001b[39mdebug,\n\u001b[1;32m   1406\u001b[0m     \u001b[38;5;241m*\u001b[39m\u001b[38;5;241m*\u001b[39mkwargs,\n\u001b[1;32m   1407\u001b[0m ):\n\u001b[1;32m   1408\u001b[0m     \u001b[38;5;28;01mif\u001b[39;00m stream_mode \u001b[38;5;241m==\u001b[39m \u001b[38;5;124m\"\u001b[39m\u001b[38;5;124mvalues\u001b[39m\u001b[38;5;124m\"\u001b[39m:\n\u001b[1;32m   1409\u001b[0m         latest \u001b[38;5;241m=\u001b[39m chunk\n",
      "File \u001b[0;32m~/.pyenv/versions/3.11.11/lib/python3.11/site-packages/langgraph/pregel/__init__.py:1297\u001b[0m, in \u001b[0;36mPregel.astream\u001b[0;34m(self, input, config, stream_mode, output_keys, interrupt_before, interrupt_after, debug)\u001b[0m\n\u001b[1;32m   1295\u001b[0m \u001b[38;5;66;03m# handle exit\u001b[39;00m\n\u001b[1;32m   1296\u001b[0m \u001b[38;5;28;01mif\u001b[39;00m loop\u001b[38;5;241m.\u001b[39mstatus \u001b[38;5;241m==\u001b[39m \u001b[38;5;124m\"\u001b[39m\u001b[38;5;124mout_of_steps\u001b[39m\u001b[38;5;124m\"\u001b[39m:\n\u001b[0;32m-> 1297\u001b[0m     \u001b[38;5;28;01mraise\u001b[39;00m GraphRecursionError(\n\u001b[1;32m   1298\u001b[0m         \u001b[38;5;124mf\u001b[39m\u001b[38;5;124m\"\u001b[39m\u001b[38;5;124mRecursion limit of \u001b[39m\u001b[38;5;132;01m{\u001b[39;00mconfig[\u001b[38;5;124m'\u001b[39m\u001b[38;5;124mrecursion_limit\u001b[39m\u001b[38;5;124m'\u001b[39m]\u001b[38;5;132;01m}\u001b[39;00m\u001b[38;5;124m reached \u001b[39m\u001b[38;5;124m\"\u001b[39m\n\u001b[1;32m   1299\u001b[0m         \u001b[38;5;124m\"\u001b[39m\u001b[38;5;124mwithout hitting a stop condition. You can increase the \u001b[39m\u001b[38;5;124m\"\u001b[39m\n\u001b[1;32m   1300\u001b[0m         \u001b[38;5;124m\"\u001b[39m\u001b[38;5;124mlimit by setting the `recursion_limit` config key.\u001b[39m\u001b[38;5;124m\"\u001b[39m\n\u001b[1;32m   1301\u001b[0m     )\n\u001b[1;32m   1303\u001b[0m \u001b[38;5;66;03m# set final channel values as run output\u001b[39;00m\n\u001b[1;32m   1304\u001b[0m \u001b[38;5;28;01mawait\u001b[39;00m run_manager\u001b[38;5;241m.\u001b[39mon_chain_end(\n\u001b[1;32m   1305\u001b[0m     read_channels(loop\u001b[38;5;241m.\u001b[39mchannels, output_keys)\n\u001b[1;32m   1306\u001b[0m )\n",
      "\u001b[0;31mGraphRecursionError\u001b[0m: Recursion limit of 10 reached without hitting a stop condition. You can increase the limit by setting the `recursion_limit` config key."
     ]
    }
   ],
   "source": [
    "result = await analyze_company(\"뤼튼테크놀로지\", \"ai chatbot\", \"global\")\n",
    "result"
   ]
  },
  {
   "cell_type": "code",
   "execution_count": null,
   "id": "bc7f1856",
   "metadata": {},
   "outputs": [],
   "source": [
    "state: AgentState = {\n",
    "    \"domain\": \"AI Chatbot\",\n",
    "    \"country\": \"Global\",\n",
    "    \"startup_list\": [\"뤼튼테크놀로지\", \"Qure.ai\"],\n",
    "    \"startup_profiles\": {},\n",
    "    \"tech_summary\": {},\n",
    "    \"founder_reputation\": {},\n",
    "    \"market_analysis\": {},\n",
    "    \"legal_risk\": {},\n",
    "    \"competitor_info\": {},\n",
    "    \"investment_decision\": {},\n",
    "    \"final_report\": {},\n",
    "}"
   ]
  },
  {
   "cell_type": "code",
   "execution_count": 14,
   "id": "da9490a8",
   "metadata": {},
   "outputs": [],
   "source": [
    "\n",
    "async def analyze_all_companies(state):\n",
    "    companies = state[\"startup_list\"]\n",
    "\n",
    "    tech_summary = {}\n",
    "    founder_reputation = {}\n",
    "    market_analysis = {}\n",
    "    legal_risk = {}\n",
    "    competitor_info = {}\n",
    "\n",
    "    tasks = [\n",
    "        analyze_company(\n",
    "            company, state[\"domain\"], state[\"country\"]\n",
    "        ) for company in companies\n",
    "    ]\n",
    "\n",
    "    company_results = await asyncio.gather(*tasks)\n",
    "\n",
    "    # 결과 취합\n",
    "    for i, company in enumerate(companies):\n",
    "        tech_summary[company] = company_results[i][\"tech_summary\"]\n",
    "        founder_reputation[company] = company_results[i][\"founder_reputation\"]\n",
    "        market_analysis[company] = company_results[i][\"market_analysis\"]\n",
    "        legal_risk[company] = company_results[i][\"legal_risk\"]\n",
    "        competitor_info[company] = company_results[i][\"competitor_info\"]\n",
    "\n",
    "    return {\n",
    "        \"tech_summary\": tech_summary,\n",
    "        \"founder_reputation\": founder_reputation, \n",
    "        \"market_analysis\" : market_analysis, \n",
    "        \"legal_risk\" : legal_risk, \n",
    "        \"competitor_info\" : competitor_info, \n",
    "    }\n",
    "\n"
   ]
  },
  {
   "cell_type": "code",
   "execution_count": null,
   "id": "fd663539",
   "metadata": {},
   "outputs": [],
   "source": []
  },
  {
   "cell_type": "code",
   "execution_count": null,
   "id": "4c0a9692",
   "metadata": {},
   "outputs": [],
   "source": []
  }
 ],
 "metadata": {
  "kernelspec": {
   "display_name": "Python 3",
   "language": "python",
   "name": "python3"
  },
  "language_info": {
   "codemirror_mode": {
    "name": "ipython",
    "version": 3
   },
   "file_extension": ".py",
   "mimetype": "text/x-python",
   "name": "python",
   "nbconvert_exporter": "python",
   "pygments_lexer": "ipython3",
   "version": "3.11.11"
  }
 },
 "nbformat": 4,
 "nbformat_minor": 5
}
