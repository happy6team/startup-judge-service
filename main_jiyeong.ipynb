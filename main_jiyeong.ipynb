{
 "cells": [
  {
   "cell_type": "code",
   "execution_count": 24,
   "id": "6a8413b2",
   "metadata": {},
   "outputs": [],
   "source": [
    "from state import AgentState\n",
    "\n",
    "from agents.legal_risk_analysis_agent import legal_risk_analysis_agent\n",
    "import agents.scored_agent\n",
    "from agents.startup_explorer_agent import startup_explorer_agent\n",
    "from agents.tech_analysis_agent import tech_analysis_agent"
   ]
  },
  {
   "cell_type": "code",
   "execution_count": null,
   "id": "fa9d7064",
   "metadata": {},
   "outputs": [],
   "source": []
  },
  {
   "cell_type": "code",
   "execution_count": 49,
   "id": "a7aed70e",
   "metadata": {},
   "outputs": [],
   "source": [
    "import asyncio\n",
    "import random\n",
    "\n",
    "async def tech_analysis_agent(company):\n",
    "    await asyncio.sleep(random.uniform(0.5, 1.5))\n",
    "    return f\"[Tech] {company}의 기술 분석 결과입니다.\"\n",
    "\n",
    "async def founder_explorer_agent(company, domain, country):\n",
    "    await asyncio.sleep(random.uniform(0.5, 1.5))\n",
    "    return f\"[Founder] {company} 창업자 평판 분석 완료.\"\n",
    "\n",
    "async def market_analysis_agent(domain, country):\n",
    "    await asyncio.sleep(random.uniform(0.5, 1.5))\n",
    "    return f\"[Market] {domain}의 시장 분석 결과입니다.\"\n",
    "\n",
    "async def competitor_analysis_agent(company, domain, country):\n",
    "    await asyncio.sleep(random.uniform(0.5, 1.5))\n",
    "    return f\"[Competitor] {company} 경쟁사 분석 결과입니다.\"\n",
    "\n",
    "async def legal_risk_analysis_agent(company, domain, country, tech_result):\n",
    "    await asyncio.sleep(random.uniform(0.5, 1.5))\n",
    "    return f\"[Competitor] {company} 경쟁사 분석 결과입니다.\""
   ]
  },
  {
   "cell_type": "code",
   "execution_count": 50,
   "id": "21cce188",
   "metadata": {},
   "outputs": [],
   "source": [
    "import asyncio\n",
    "\n",
    "async def analyze_company(company, domain, country):\n",
    "    # tech_analysis 백그라운드 실행\n",
    "    tech_task = asyncio.create_task(tech_analysis_agent(company))\n",
    "\n",
    "    # 나머지 에이전트 동시 실행\n",
    "    founder_task = asyncio.create_task(founder_explorer_agent(company, domain, country))\n",
    "    competitor_task = asyncio.create_task(competitor_analysis_agent(company, domain, country))\n",
    "\n",
    "    # tech 완료 기다렸다가 legal 시작\n",
    "    tech_result = await tech_task\n",
    "    legal_result = await legal_risk_analysis_agent(company, domain, country, tech_result)\n",
    "\n",
    "    # 나머지 결과 대기\n",
    "    founder_result = await founder_task\n",
    "    competitor_result = await competitor_task\n",
    "\n",
    "    return {\n",
    "        \"company\" : company, \n",
    "        \"tech_summary\": tech_result,\n",
    "        \"founder_reputation\": founder_result,\n",
    "        # \"market_analysis\": market_result,\n",
    "        \"legal_risk\": legal_result,\n",
    "        \"competitor_info\": competitor_result\n",
    "    }"
   ]
  },
  {
   "cell_type": "code",
   "execution_count": 51,
   "id": "a457e45a",
   "metadata": {},
   "outputs": [
    {
     "data": {
      "text/plain": [
       "{'company': '뤼튼테크놀로지',\n",
       " 'tech_summary': '[Tech] 뤼튼테크놀로지의 기술 분석 결과입니다.',\n",
       " 'founder_reputation': '[Founder] 뤼튼테크놀로지 창업자 평판 분석 완료.',\n",
       " 'legal_risk': '[Competitor] 뤼튼테크놀로지 경쟁사 분석 결과입니다.',\n",
       " 'competitor_info': '[Competitor] 뤼튼테크놀로지 경쟁사 분석 결과입니다.'}"
      ]
     },
     "execution_count": 51,
     "metadata": {},
     "output_type": "execute_result"
    }
   ],
   "source": [
    "result = await analyze_company(\"뤼튼테크놀로지\", \"ai chatbot\", \"global\")\n",
    "result"
   ]
  },
  {
   "cell_type": "code",
   "execution_count": 52,
   "id": "bc7f1856",
   "metadata": {},
   "outputs": [],
   "source": [
    "state: AgentState = {\n",
    "    \"domain\": \"AI Chatbot\",\n",
    "    \"country\": \"Global\",\n",
    "    \"startup_list\": [\"뤼튼테크놀로지\", \"Qure.ai\"],\n",
    "    \"startup_profiles\": {},\n",
    "    \"tech_summary\": {},\n",
    "    \"founder_reputation\": {},\n",
    "    \"market_analysis\": {},\n",
    "    \"legal_risk\": {},\n",
    "    \"competitor_info\": {},\n",
    "    \"investment_decision\": {},\n",
    "    \"final_report\": {},\n",
    "}"
   ]
  },
  {
   "cell_type": "code",
   "execution_count": null,
   "id": "48540a02",
   "metadata": {},
   "outputs": [],
   "source": []
  },
  {
   "cell_type": "code",
   "execution_count": 53,
   "id": "d330a22e",
   "metadata": {},
   "outputs": [],
   "source": [
    "async def analyze_all_companies(state):\n",
    "    companies = state[\"startup_list\"]\n",
    "    domain = state[\"domain\"]\n",
    "    country = state[\"country\"]\n",
    "\n",
    "    tech_summary = {}\n",
    "    founder_reputation = {}\n",
    "    legal_risk = {}\n",
    "    competitor_info = {}\n",
    "\n",
    "    # 1. 각 기업별 분석 비동기 태스크 준비\n",
    "    company_tasks = [\n",
    "        analyze_company(company, domain, country)\n",
    "        for company in companies\n",
    "    ]\n",
    "\n",
    "    # 2. market_analysis는 단 한 번만 실행\n",
    "    market_analysis_task = asyncio.create_task(market_analysis_agent(domain, country))\n",
    "\n",
    "    # 3. 모든 작업 병렬 실행\n",
    "    company_results = await asyncio.gather(*company_tasks)\n",
    "    market_result = await market_analysis_task\n",
    "\n",
    "    # 4. 기업별 결과 정리\n",
    "    for i, company in enumerate(companies):\n",
    "        tech_summary[company] = company_results[i][\"tech_summary\"]\n",
    "        founder_reputation[company] = company_results[i][\"founder_reputation\"]\n",
    "        legal_risk[company] = company_results[i][\"legal_risk\"]\n",
    "        competitor_info[company] = company_results[i][\"competitor_info\"]\n",
    "\n",
    "    # 5. market_analysis는 하나의 문자열만 반환\n",
    "    return {\n",
    "        \"tech_summary\": tech_summary,\n",
    "        \"founder_reputation\": founder_reputation,\n",
    "        \"market_analysis\": market_result, \n",
    "        \"legal_risk\": legal_risk,\n",
    "        \"competitor_info\": competitor_info,\n",
    "    }"
   ]
  },
  {
   "cell_type": "code",
   "execution_count": 54,
   "id": "454f82ef",
   "metadata": {},
   "outputs": [
    {
     "data": {
      "text/plain": [
       "{'tech_summary': {'뤼튼테크놀로지': '[Tech] 뤼튼테크놀로지의 기술 분석 결과입니다.',\n",
       "  'Qure.ai': '[Tech] Qure.ai의 기술 분석 결과입니다.'},\n",
       " 'founder_reputation': {'뤼튼테크놀로지': '[Founder] 뤼튼테크놀로지 창업자 평판 분석 완료.',\n",
       "  'Qure.ai': '[Founder] Qure.ai 창업자 평판 분석 완료.'},\n",
       " 'market_analysis': '[Market] AI Chatbot의 시장 분석 결과입니다.',\n",
       " 'legal_risk': {'뤼튼테크놀로지': '[Competitor] 뤼튼테크놀로지 경쟁사 분석 결과입니다.',\n",
       "  'Qure.ai': '[Competitor] Qure.ai 경쟁사 분석 결과입니다.'},\n",
       " 'competitor_info': {'뤼튼테크놀로지': '[Competitor] 뤼튼테크놀로지 경쟁사 분석 결과입니다.',\n",
       "  'Qure.ai': '[Competitor] Qure.ai 경쟁사 분석 결과입니다.'}}"
      ]
     },
     "execution_count": 54,
     "metadata": {},
     "output_type": "execute_result"
    }
   ],
   "source": [
    "result = await analyze_all_companies(state)\n",
    "result"
   ]
  },
  {
   "cell_type": "code",
   "execution_count": null,
   "id": "5990e3bc",
   "metadata": {},
   "outputs": [],
   "source": []
  },
  {
   "cell_type": "code",
   "execution_count": null,
   "id": "fd663539",
   "metadata": {},
   "outputs": [],
   "source": []
  },
  {
   "cell_type": "code",
   "execution_count": null,
   "id": "4c0a9692",
   "metadata": {},
   "outputs": [],
   "source": []
  },
  {
   "cell_type": "code",
   "execution_count": null,
   "id": "b22b4a82",
   "metadata": {},
   "outputs": [],
   "source": []
  },
  {
   "cell_type": "code",
   "execution_count": null,
   "id": "a7ce5b55",
   "metadata": {},
   "outputs": [],
   "source": []
  },
  {
   "cell_type": "code",
   "execution_count": null,
   "id": "742beb7f",
   "metadata": {},
   "outputs": [],
   "source": []
  },
  {
   "cell_type": "code",
   "execution_count": null,
   "id": "cbdc71dd",
   "metadata": {},
   "outputs": [],
   "source": []
  },
  {
   "cell_type": "code",
   "execution_count": null,
   "id": "ebacc438",
   "metadata": {},
   "outputs": [],
   "source": []
  },
  {
   "cell_type": "code",
   "execution_count": null,
   "id": "ff9f3cc6",
   "metadata": {},
   "outputs": [],
   "source": []
  },
  {
   "cell_type": "code",
   "execution_count": null,
   "id": "ea2ba2f4",
   "metadata": {},
   "outputs": [],
   "source": []
  },
  {
   "cell_type": "code",
   "execution_count": null,
   "id": "c213b39a",
   "metadata": {},
   "outputs": [],
   "source": []
  }
 ],
 "metadata": {
  "kernelspec": {
   "display_name": "Python 3",
   "language": "python",
   "name": "python3"
  },
  "language_info": {
   "codemirror_mode": {
    "name": "ipython",
    "version": 3
   },
   "file_extension": ".py",
   "mimetype": "text/x-python",
   "name": "python",
   "nbconvert_exporter": "python",
   "pygments_lexer": "ipython3",
   "version": "3.11.11"
  }
 },
 "nbformat": 4,
 "nbformat_minor": 5
}
