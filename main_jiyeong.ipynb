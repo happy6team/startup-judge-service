{
 "cells": [
  {
   "cell_type": "code",
   "execution_count": null,
   "id": "6a8413b2",
   "metadata": {},
   "outputs": [
    {
     "name": "stderr",
     "output_type": "stream",
     "text": [
      "/Users/sonjiyeong/Documents/GitHub/startup-judge-service/agents/startup_explorer.py:10: LangChainDeprecationWarning: The class `ChatOpenAI` was deprecated in LangChain 0.0.10 and will be removed in 1.0. An updated version of the class exists in the langchain-openai package and should be used instead. To use it run `pip install -U langchain-openai` and import as `from langchain_openai import ChatOpenAI`.\n",
      "  llm = ChatOpenAI(model=\"gpt-4\", temperature=0)\n"
     ]
    }
   ],
   "source": [
    "from state import AgentState\n",
    "from agents.startup_explorer import startup_explorer_agent\n",
    "# from agents.legal_risk_analysis import legal_risk_analysis_agent"
   ]
  },
  {
   "cell_type": "code",
   "execution_count": null,
   "id": "fa9d7064",
   "metadata": {},
   "outputs": [],
   "source": []
  },
  {
   "cell_type": "code",
   "execution_count": 40,
   "id": "a7aed70e",
   "metadata": {},
   "outputs": [],
   "source": [
    "import asyncio\n",
    "import random\n",
    "\n",
    "async def tech_analysis_agent(company, domain, country):\n",
    "    await asyncio.sleep(random.uniform(0.5, 1.5))\n",
    "    return f\"[Tech] {company}의 기술 분석 결과입니다.\"\n",
    "\n",
    "async def founder_explorer_agent(company, domain, country):\n",
    "    await asyncio.sleep(random.uniform(0.5, 1.5))\n",
    "    return f\"[Founder] {company} 창업자 평판 분석 완료.\"\n",
    "\n",
    "async def market_analysis_agent(company, domain, country):\n",
    "    await asyncio.sleep(random.uniform(0.5, 1.5))\n",
    "    return f\"[Market] {company}의 시장 분석 결과입니다.\"\n",
    "\n",
    "async def competitor_analysis_agent(company, domain, country):\n",
    "    await asyncio.sleep(random.uniform(0.5, 1.5))\n",
    "    return f\"[Competitor] {company} 경쟁사 분석 결과입니다.\"\n",
    "\n",
    "async def legal_risk_analysis_agent(company, domain, country, tech_result):\n",
    "    await asyncio.sleep(random.uniform(0.5, 1.5))\n",
    "    return f\"[Competitor] {company} 경쟁사 분석 결과입니다.\""
   ]
  },
  {
   "cell_type": "code",
   "execution_count": 41,
   "id": "21cce188",
   "metadata": {},
   "outputs": [],
   "source": [
    "import asyncio\n",
    "\n",
    "\n",
    "async def analyze_company(company, domain, country):\n",
    "    # tech_analysis 백그라운드 실행\n",
    "    tech_task = asyncio.create_task(tech_analysis_agent(company, domain, country))\n",
    "\n",
    "    # 나머지 에이전트 동시 실행\n",
    "    founder_task = asyncio.create_task(founder_explorer_agent(company, domain, country))\n",
    "    market_task = asyncio.create_task(market_analysis_agent(company, domain, country))\n",
    "    competitor_task = asyncio.create_task(competitor_analysis_agent(company, domain, country))\n",
    "\n",
    "    # tech 완료 기다렸다가 legal 시작\n",
    "    tech_result = await tech_task\n",
    "    legal_result = await legal_risk_analysis_agent(company, domain, country, tech_result)\n",
    "\n",
    "    # 나머지 결과 대기\n",
    "    founder_result = await founder_task\n",
    "    market_result = await market_task\n",
    "    competitor_result = await competitor_task\n",
    "\n",
    "    return {\n",
    "        \"company\" : company, \n",
    "        \"tech_summary\": tech_result,\n",
    "        \"founder_reputation\": founder_result,\n",
    "        \"market_analysis\": market_result,\n",
    "        \"legal_risk\": legal_result,\n",
    "        \"competitor_info\": competitor_result\n",
    "    }"
   ]
  },
  {
   "cell_type": "code",
   "execution_count": 42,
   "id": "a457e45a",
   "metadata": {},
   "outputs": [
    {
     "data": {
      "text/plain": [
       "{'company': '뤼튼테크놀로지',\n",
       " 'tech_summary': '[Tech] 뤼튼테크놀로지의 기술 분석 결과입니다.',\n",
       " 'founder_reputation': '[Founder] 뤼튼테크놀로지 창업자 평판 분석 완료.',\n",
       " 'market_analysis': '[Market] 뤼튼테크놀로지의 시장 분석 결과입니다.',\n",
       " 'legal_risk': '[Competitor] 뤼튼테크놀로지 경쟁사 분석 결과입니다.',\n",
       " 'competitor_info': '[Competitor] 뤼튼테크놀로지 경쟁사 분석 결과입니다.'}"
      ]
     },
     "execution_count": 42,
     "metadata": {},
     "output_type": "execute_result"
    }
   ],
   "source": [
    "result = await analyze_company(\"뤼튼테크놀로지\", \"ai chatbot\", \"global\")\n",
    "result"
   ]
  },
  {
   "cell_type": "code",
   "execution_count": 43,
   "id": "bc7f1856",
   "metadata": {},
   "outputs": [],
   "source": [
    "state: AgentState = {\n",
    "    \"domain\": \"AI Chatbot\",\n",
    "    \"country\": \"Global\",\n",
    "    \"startup_list\": [\"뤼튼테크놀로지\", \"Qure.ai\", \"Synthesia\"],\n",
    "    \"startup_profiles\": {},\n",
    "    \"tech_summary\": {},\n",
    "    \"founder_reputation\": {},\n",
    "    \"market_analysis\": {},\n",
    "    \"legal_risk\": {},\n",
    "    \"competitor_info\": {},\n",
    "    \"investment_decision\": {},\n",
    "    \"final_report\": {},\n",
    "}"
   ]
  },
  {
   "cell_type": "code",
   "execution_count": 44,
   "id": "da9490a8",
   "metadata": {},
   "outputs": [],
   "source": [
    "\n",
    "async def analyze_all_companies(state):\n",
    "    companies = state[\"startup_list\"]\n",
    "\n",
    "    tech_summary = {}\n",
    "    founder_reputation = {}\n",
    "    market_analysis = {}\n",
    "    legal_risk = {}\n",
    "    competitor_info = {}\n",
    "\n",
    "    tasks = [\n",
    "        analyze_company(\n",
    "            company, state[\"domain\"], state[\"country\"]\n",
    "        ) for company in companies\n",
    "    ]\n",
    "\n",
    "    company_results = await asyncio.gather(*tasks)\n",
    "\n",
    "    # 결과 취합\n",
    "    for i, company in enumerate(companies):\n",
    "        tech_summary[company] = company_results[i][\"tech_summary\"]\n",
    "        founder_reputation[company] = company_results[i][\"founder_reputation\"]\n",
    "        market_analysis[company] = company_results[i][\"market_analysis\"]\n",
    "        legal_risk[company] = company_results[i][\"legal_risk\"]\n",
    "        competitor_info[company] = company_results[i][\"competitor_info\"]\n",
    "\n",
    "    return {\n",
    "        \"tech_summary\": tech_summary,\n",
    "        \"founder_reputation\": founder_reputation, \n",
    "        \"market_analysis\" : market_analysis, \n",
    "        \"legal_risk\" : legal_risk, \n",
    "        \"competitor_info\" : competitor_info, \n",
    "    }\n",
    "\n"
   ]
  },
  {
   "cell_type": "code",
   "execution_count": null,
   "id": "fd663539",
   "metadata": {},
   "outputs": [],
   "source": []
  },
  {
   "cell_type": "code",
   "execution_count": null,
   "id": "4c0a9692",
   "metadata": {},
   "outputs": [],
   "source": []
  }
 ],
 "metadata": {
  "kernelspec": {
   "display_name": "Python 3",
   "language": "python",
   "name": "python3"
  },
  "language_info": {
   "codemirror_mode": {
    "name": "ipython",
    "version": 3
   },
   "file_extension": ".py",
   "mimetype": "text/x-python",
   "name": "python",
   "nbconvert_exporter": "python",
   "pygments_lexer": "ipython3",
   "version": "3.11.11"
  }
 },
 "nbformat": 4,
 "nbformat_minor": 5
}
