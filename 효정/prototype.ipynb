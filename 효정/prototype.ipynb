{
 "cells": [
  {
   "cell_type": "code",
   "execution_count": 332,
   "metadata": {},
   "outputs": [],
   "source": [
    "# 경쟁사 비교 에이전트\n",
    "\n",
    "# 역할 : 경쟁 구도, 차별성 분석\n",
    "# 내용 : 경쟁사 정보 검색 및 비교 분석\n",
    "\n",
    "# 입력 : 기업명"
   ]
  },
  {
   "cell_type": "code",
   "execution_count": 333,
   "metadata": {},
   "outputs": [],
   "source": [
    "# import\n",
    "\n",
    "from langchain_teddynote.tools.tavily import TavilySearch\n",
    "\n",
    "from typing import Annotated, TypedDict\n",
    "from langgraph.graph.message import add_messages\n",
    "\n",
    "from langchain_openai import ChatOpenAI\n",
    "from langchain_teddynote.evaluator import GroundednessChecker\n",
    "from langchain_teddynote.messages import messages_to_history\n",
    "\n",
    "from langgraph.graph import END, StateGraph\n",
    "from langgraph.checkpoint.memory import MemorySaver\n",
    "\n",
    "from langchain_core.runnables import RunnableConfig\n",
    "from langchain_teddynote.messages import stream_graph, random_uuid\n",
    "from langgraph.graph import StateGraph, START, END\n",
    "\n",
    "from langchain.chat_models import ChatOpenAI\n",
    "from langchain_core.messages import HumanMessage, AIMessage\n",
    "from langchain_core.messages import BaseMessage\n",
    "import os"
   ]
  },
  {
   "cell_type": "code",
   "execution_count": 334,
   "metadata": {},
   "outputs": [],
   "source": [
    "#!pip install langchain-teddynote"
   ]
  },
  {
   "cell_type": "code",
   "execution_count": 336,
   "metadata": {},
   "outputs": [],
   "source": [
    "llm = ChatOpenAI(model=\"gpt-4o-mini\")"
   ]
  },
  {
   "cell_type": "code",
   "execution_count": 337,
   "metadata": {},
   "outputs": [],
   "source": [
    "# 그래프 상태\n",
    "class GraphState(TypedDict):  \n",
    "    question: Annotated[str, \"Question\"] # 질문\n",
    "    context: Annotated[str, \"Context\"]    \n",
    "    answer: Annotated[str, \"Answer\"]        # 답변  \n",
    "    messages: Annotated[list[BaseMessage], \"Messages\"] # 메시지(누적되는 list)  \n",
    "    relevance: Annotated[str, \"Relevance\"]  # 관련성  "
   ]
  },
  {
   "cell_type": "code",
   "execution_count": 339,
   "metadata": {},
   "outputs": [],
   "source": [
    "def relevance_check(state: GraphState) -> GraphState:\n",
    "    # LLM을 직접 사용하여 관련성 체크\n",
    "    llm = ChatOpenAI(model=\"gpt-4o-mini\", temperature=0)\n",
    "    \n",
    "    # 관련성 체크 프롬프트\n",
    "    prompt = f\"\"\"\n",
    "    당신은 질문과 검색 결과의 관련성을 평가하는 평가자입니다.\n",
    "    \n",
    "    질문: {state[\"question\"]}\n",
    "    \n",
    "    검색 결과: {state[\"context\"]}\n",
    "    \n",
    "    위 질문과 검색 결과가 서로 관련이 있는지 판단해주세요. \n",
    "    관련성이 있다면 \"yes\"를, 없다면 \"no\"를 응답해주세요.\n",
    "    오직 \"yes\" 또는 \"no\"로만 대답하세요.\n",
    "    \"\"\"\n",
    "    \n",
    "    # LLM 실행\n",
    "    response = llm.invoke(prompt)\n",
    "    result = response.content.strip().lower()\n",
    "    \n",
    "    # 결과 출력\n",
    "    print(\"==== [RELEVANCE CHECK] ====\")\n",
    "    print(f\"결과: {result}\")\n",
    "    \n",
    "    # \"yes\"면 True, \"no\"면 False 반환\n",
    "    is_relevant = result == \"yes\"\n",
    "    return GraphState(relevance=is_relevant)\n",
    "\n",
    "def is_relevant(state: GraphState) -> str:\n",
    "    \"\"\"조건부 라우팅을 위한 함수\"\"\"\n",
    "    if state[\"relevance\"]:\n",
    "        return \"yes\"\n",
    "    else:\n",
    "        return \"no\""
   ]
  },
  {
   "cell_type": "code",
   "execution_count": 340,
   "metadata": {},
   "outputs": [],
   "source": [
    "def llm_answer(state: GraphState) -> GraphState:\n",
    "    latest_question = state[\"question\"]\n",
    "    context = state[\"context\"]  # 웹 검색 결과로 받은 경쟁사 분석 정보\n",
    "\n",
    "    # 경쟁사 분석 결과를 요약하고 핵심 인사이트를 추출하는 프롬프트\n",
    "    report_prompt = f\"\"\"\n",
    "        다음은 {latest_question}에 대한 경쟁사 분석 정보입니다. 이 내용을 기반으로 요약 보고서를 작성해 주세요.\n",
    "\n",
    "        형식:\n",
    "        1. 경쟁사 리스트 정리\n",
    "        2. 핵심 인사이트 정리\n",
    "        3. 전략적 시사점\n",
    "        4. 투자측면에서 이점\n",
    "\n",
    "        경쟁사 분석 정보: {context}\n",
    "        \"\"\"\n",
    "\n",
    "    response = llm.invoke(report_prompt)\n",
    "    \n",
    "    # 생성된 답변과 (유저의 질문, 답변) 메시지를 상태에 저장\n",
    "    return GraphState(\n",
    "        answer=response, \n",
    "        messages=[(\"user\", latest_question), (\"assistant\", response)]\n",
    "    )\n"
   ]
  },
  {
   "cell_type": "code",
   "execution_count": 342,
   "metadata": {},
   "outputs": [],
   "source": [
    "def web_search(state: GraphState) -> GraphState:\n",
    "    print(f\"Received state: {state}\")  # state 객체 확인\n",
    "    \n",
    "    tavily_tool = TavilySearch()\n",
    "    company_name = state[\"question\"]  # 'question' 키에서 기업명 추출\n",
    "    search_query = f\"{company_name} 경쟁사 비교 분석\"\n",
    "    print(f\"Searching for: {search_query}\")  # 검색 쿼리 확인\n",
    "    \n",
    "    # 최근 한 달의 결과 5개 가져오기\n",
    "    search_result = tavily_tool.search(\n",
    "        query=search_query,\n",
    "        topic=\"general\",    # 'general'로 변경 (유효한 옵션)\n",
    "        days=30,            # 최근 한 달 데이터로 확장\n",
    "        max_results=3,      # 결과 수 증가\n",
    "        format_output=True, # 결과 포맷팅\n",
    "    )\n",
    "\n",
    "    if search_result:\n",
    "        print(f\"Search Results: {search_result}\")  # 검색 결과 확인\n",
    "        \n",
    "        # 결과 헤더 추가하여 컨텍스트 명확히 하기\n",
    "        formatted_result = f\"## {company_name} 경쟁사 분석 정보\\n\\n\" + \"\\n\\n\".join(search_result)\n",
    "        return GraphState(context=formatted_result)\n",
    "    else:\n",
    "        print(\"No search results found.\")\n",
    "        return GraphState(context=f\"{company_name}에 대한 경쟁사 비교 정보를 찾을 수 없습니다.\")\n"
   ]
  },
  {
   "cell_type": "code",
   "execution_count": 343,
   "metadata": {},
   "outputs": [],
   "source": [
    "# 워크 플로우\n",
    "workflow = StateGraph(GraphState)\n",
    "\n",
    "workflow.add_node(\"web_search\", web_search)\n",
    "workflow.add_node(\"relevance_check\", relevance_check)\n",
    "workflow.add_node(\"llm_answer\", llm_answer)\n",
    "\n",
    "workflow.add_edge(START, \"web_search\")\n",
    "workflow.add_edge(\"web_search\", \"relevance_check\")  \n",
    "workflow.add_edge(\"llm_answer\", END)  \n",
    "\n",
    "workflow.add_conditional_edges(\n",
    "    \"relevance_check\",  \n",
    "    is_relevant,\n",
    "    {\n",
    "        \"yes\": \"llm_answer\", \n",
    "        \"no\": \"web_search\",  \n",
    "    },\n",
    ")\n",
    "\n",
    "workflow.set_entry_point(\"web_search\")\n",
    "\n",
    "memory = MemorySaver()\n",
    "app = workflow.compile(checkpointer=memory)"
   ]
  },
  {
   "cell_type": "code",
   "execution_count": 344,
   "metadata": {},
   "outputs": [
    {
     "name": "stdout",
     "output_type": "stream",
     "text": [
      "[ERROR] Visualize Graph Error: HTTPSConnectionPool(host='mermaid.ink', port=443): Read timed out. (read timeout=10)\n"
     ]
    }
   ],
   "source": [
    "from langchain_teddynote.graphs import visualize_graph  \n",
    "\n",
    "visualize_graph(app)  "
   ]
  },
  {
   "cell_type": "code",
   "execution_count": 345,
   "metadata": {},
   "outputs": [
    {
     "name": "stdout",
     "output_type": "stream",
     "text": [
      "Received state: {'question': 'SK', 'context': '', 'answer': '', 'messages': [], 'relevance': ''}\n",
      "Searching for: SK 경쟁사 비교 분석\n",
      "Warning: days parameter is ignored for 'general' topic search. Set topic parameter to 'news' to use days.\n",
      "Search Results: ['<document><title>SK텔레콤 분석리포트 2024 ver. ㅣ캐치 - CATCH</title><url>https://www.catch.co.kr/Comp/AnalysisCompView?ID=2251</url><content>sk텔레콤 분석리포트 2024 ver. 한눈에 보는 sk텔레콤 사업분석, 경쟁사비교, swot분석1984년 kmts라는 사명으로 설립된 sk텔레콤은 sk그룹의 계열사로, 세계 최초로 cdma(2g) 서비스를 시작한 ict 복합기업이다. 당사는 통신, 미디어, 보안, 커머스, 모빌리티 등 다양한 분야에서 사업을 영위하고 있</content></document>', '<document><title>SK - 경쟁사분석 - 기업모니터 - WiseReport</title><url>https://comp.wisereport.co.kr/samsung/company/c1060001.aspx?cmp_cd=034730</url><content>경쟁사분석: 업종분석: 지분현황 ... ※ 각 항목 입력 후 엔터키를 누르시면 분석결과를 확인하실수 있습니다. ※ 재무아이템을 클릭하시면 아래 기업의 최근 결산/분기 순액 데이터를 차트로 확인하실수 있습니다. 기업간비교자료(연간) 항목 sk a034730</content><raw>메인메뉴\\n\\n서브메뉴\\n\\n기업현황 | 기업개요 | 재무분석 | 투자지표 | 컨센서스 | 경쟁사분석 | 업종분석 | 지분현황 | 최근리포트 | 금감원공시\\n기업모니터\\n\\n요약정보\\n\\n | SK034730홈페이지대표전화주소EPS-17,618BPS455,927PERN/A업종PERN/APBR0.28현금배당수익률5.50%전일종가127,300도움말KOSPI : 코스피 기타금융업|WI26 : 에너지|12월 결산|K200|NXT | SK034730홈페이지대표전화주소 | EPS-17,618BPS455,927PERN/A업종PERN/APBR0.28현금배당수익률5.50%전일종가127,300도움말 | KOSPI : 코스피 기타금융업|WI26 : 에너지|12월 결산|K200|NXT | \\nSK034730홈페이지대표전화주소 | EPS-17,618BPS455,927PERN/A업종PERN/APBR0.28현금배당수익률5.50%전일종가127,300도움말\\nKOSPI : 코스피 기타금융업|WI26 : 에너지|12월 결산|K200|NXT\\n*PER: 전일자 보통주 수정주가 / 최근결산 EPS*PBR: 전일자 보통주 수정주가 / 최근결산 BPS*현금배당수익률: 최근 결산 수정DPS(현금) / 전일자 보통주 수정주가* PER, PBR값이 (-)일 경우, N/A로 표기됩니다.\\r\\n\\t\\t\\t\\t\\t\\t\\t\\t\\t\\t\\t\\t\\t*WI26: WISE Industry 26\\nSK034730홈페이지대표전화주소 | EPS-17,618BPS455,927PERN/A업종PERN/APBR0.28현금배당수익률5.50%전일종가127,300도움말\\nKOSPI : 코스피 기타금융업|WI26 : 에너지|12월 결산|K200|NXT\\nEPS-17,618\\n\\nBPS455,927\\n\\nPERN/A\\n\\n업종PERN/A\\n\\nPBR0.28\\n\\n현금배당수익률\\r\\n\\t\\t\\t\\t\\t\\t\\t\\t\\t\\t\\t\\t\\t\\t\\t\\t\\t\\t\\t5.50%\\n\\n전일종가\\r\\n\\t\\t\\t\\t\\t\\t\\t\\t\\t\\t\\t\\t\\t\\t\\t\\t\\t\\t\\t127,300\\n\\n펀더멘털 비교 | 재무제표기준주재무제표K-IFRS(별도)K-IFRS(연결)K-GAAP(개별)K-GAAP(연결)기준업종[FG000]경쟁사 비교[KOSPI]코스피 금융[WI26]에너지[WI26]화학[WI26]비철,목재등[WI26]철강[WI26]건설,건축관련[WI26]기계[WI26]조선[WI26]상사,자본재[WI26]운송[WI26]자동차[WI26]화장품,의류,완구[WI26]호텔,레저서비스[WI26]미디어,교육[WI26]소매(유통)[WI26]필수소비재[WI26]건강관리[WI26]은행[WI26]증권[WI26]보험[WI26]소프트웨어[WI26]IT하드웨어[WI26]반도체[WI26]IT가전[WI26]디스플레이[WI26]통신서비스[WI26]유틸리티검색IFRS기준업종\\n펀더멘털 비교\\n\\n | 연간 | 분기 |  | \\n자산총계(억원)\\n\\n※ 종목선택은 최대 4개까지 입니다.\\n\\n※ 각 항목 입력 후 엔터키를 누르시면 분석결과를 확인하실수 있습니다.\\n\\n※ 재무아이템을 클릭하시면 아래 기업의 최근 결산/분기 순액 데이터를 차트로 확인하실수 있습니다.\\n\\n항목 | SKA034730(IFRS연결) | 종목입력2기업검색() | 종목입력3기업검색() | 종목입력4기업검색() | 종목입력5기업검색()\\nFnGuide에서 제공하는 정보는 신뢰할 만한 자료 및 정보로부터 얻어진 것이나 그 정확성이나 완전성을 보장 할 수 없으며, 시간이 경과함에 따라 변경될 수 있습니다. \\r\\n                따라서 정보의 오류, 누락에 대하여 FnGuide 또는FnGuide에 자료를 제공하는 회사에서는 그 결과에 대해 법적인 책임을 지지 않습니다. \\r\\n                모든 콘텐츠에 대한 저작권은 FnGuide에 있으며 사전 허가없이 이를 무단으로 사용하거나, 데이터 베이스화 할 경우 민형사상 책임을 물을 수 있습니다.\\n\\n</raw></document>', '<document><title>Sk텔레콤 기업분석보고서 - 잡코리아</title><url>https://www.jobkorea.co.kr/starter/companyreport/view?Inside_No=11648&schCtgr=0&schGrpCtgr=0&Page=1</url><content>기업심층분석 4. sk텔레콤, 고객/자사/경쟁사 분석 기업분석보고서를 통해 sk텔레콤 채용에 대비해보자. 업데이트 2023.10.22. 조회수 15,432 댓글수 0; 기업심층분석 3. sk텔레콤, 재무제표 및 사업보고서 기업분석보고서를 통해 sk텔레콤 채용에 대비해보자. 업데이트</content><raw>메뉴 건너뛰기\\n\\n\\n\\n검색\\n\\n열림\\n\\n키워드를 입력하시면 검색어를 추천해드립니다.\\n\\n자동완성 켜기 |\\n닫기\\n\\n닫힘\\n\\n검색어 자동완성\\n\\n자동완성 끄기\\n|\\n닫기\\n\\n주요서비스\\n\\n채용정보 세부메뉴\\n\\n프로필 등록하고  포지션 제안 받으세요\\n\\n기업분석보고서\\n\\n기업심층분석 4. SK텔레콤, 고객/자사/경쟁사 분석\\n\\n업데이트\\n2023.10.22.\\n조회수 17,482\\n\\n공유하기 레이어 닫기\\n\\n\\n\\n고객, 자사, 경쟁사 분석을 통해 기업이 현재 처한 위치를 확인할 수 있다. 기업이 현재 어떤 곳에 있고, 고객은 어떤 집단으로 설정되어 있는지, 경쟁사에 비해 어떤 비교 우위 전략을 가졌는지 살펴보자.\\n\\nAnalysis 1\\r\\n\\n\\r\\n통신 사업은 대부분의 사업 지역이 국내로 한정돼 있으며, 크게 개인과 가정을 대상으로 하는 사업(B2C)과 기업을 대상으로 하는 사업(B2B) 영역으로 나눌 수 있다. B2C 사업은 성별/연령/소득/거주 지역에 상관없이 이동통신 수요가 존재하는 전 국민과 가정을 대상으로 영위한다. 사업 지역이 국내로 한정돼 있어 내수 산업의 특성을 가지고 있으며, 사용 인구 및 소득 수준에 따른 통신비 지출 등 내수 기반에 크게 영향을 받는다. 통신 서비스는 매우 보편적인 일상재/필수재적인 커뮤니케이션 수단으로, 안정된 수요 기반을 확보해 경기 민감도는 낮은 편이다.\\r\\n\\r\\n2023년 2분기 말 기준 SKT는 5G 가입자 수 1,467만 명을 기록했는데, 이는 전체 가입자 중 63%에 달하는 수치다. SK브로드밴드는 유료방송 가입자 수 946만 명, 초고속인터넷 가입자 수 681만 명을 확보하는 등 유무선통신 시장 선두 지위를 유지하고 있다.\\n\\nAnalysis 2\\r\\n\\n\\r\\n통신사의 B2B 사업은 크게 기업인터넷, 기업전화 매출과 디지털 전환 서비스 매출로 분류할 수 있다. 통신사는 통신 인프라가 필수적인 인터넷 데이터센터 시장에서 강세를 보이고 있고, 전국적으로 구축된 통신망을 활용해 스마트 모빌리티, 보안 솔루션 등 IoT(사물인터넷) 기반 서비스를 제공하고 있다.\\n\\nAnalysis 3\\r\\n\\n\\r\\nSK텔레콤은 기업 및 공공기관 등의 요구에 맞춰 ▲대화 및 고객센터 등 통신사 기반 서비스를 중심으로 자체 개발해온 에이닷 LLM(거대언어모델)에 ▲윤리적 답변 및 대용량 텍스트 입력에 강점이 있는 앤트로픽(Anthropic)사의 LLM ▲한국어 데이터가 풍부한 코난 LLM 등을 조합해 고객 맞춤형으로 제공하기 위한 기술 및 사업적 준비를 진행 중이다. 국내 LLM 시장은 ‘오픈AI’를 필두로 다수 기업이 자사 LLM 기반의 사업을 준비 중인데, SK텔레콤은 자체 LLM과 더불어 업계에서 인정받는 타사의 LLM까지 포함한 라인업으로 ‘멀티 LLM’ 사업을 추진하고 있는 것. 이러한 접근을 통해 SK텔레콤은 고객별 특성에 가장 잘 맞는 LLM 서비스를 가장 비용 효율적으로 공급하는 엔터프라이즈 AI 사업자가 될 수 있을 것으로 기대된다.\\n\\nSK텔레콤은 통신사에서 ‘AI 컴퍼니’로의 전환을 선언하고, 기업의 체질을 바꾸는 데 속도를 내고 있다. AI 서비스와 기술 역량을 활용해 ▲고객/기술 ▲시공간 ▲산업(AIX) ▲코어 BM ▲ESG 등 5대 영역을 중심으로 혁신을 선도하는 ‘AI 투 에브리웨어(AI를 모든 곳에)’ 전략이다. \\r\\n\\r\\n이에 SK텔레콤은 AI 경쟁력 강화를 위해 대내외적으로 활발한 투자를 이어가고 있다. AICC(AI 컨택센터) 서비스를 국내 최초로 도입한 기업 ‘페르소나AI’, 딥러닝 기술을 활용해 사람처럼 친근한 대화를 할 수 있는 ‘관계 지향형’ AI 에이전트를 개발하는 기업 ‘스캐터랩’, AI 챗봇 ‘클로드’를 보유한 미국의 생성형 AI 기업 ‘앤트로픽’ 등이 SK텔레콤이 투자를 진행한 AI 관련 기업들이다. 자체 LLM(거대언어모델)과 더불어 업계에서 인정받는 타사의 LLM까지 포함한 라인업으로 ‘멀티 LLM’ 사업도 진행한다. 이를 통해 고객별 특성에 가장 잘 맞는 LLM 서비스를 가장 비용 효율적으로 공급하는 엔터프라이즈 AI 사업자가 될 수 있을 것으로 기대된다. \\r\\n\\r\\n이 외에 SKT는 국내 도심항공교통(UAM) 상용화에도 박차를 가하고 있다. 글로벌 UAM 기체 제조사 조비 에비에이션(Joby Aviation)에 1억 달러를 투자해 약 2%의 지분을 확보했으며, 이를 통해 조비 에비에이션의 기체 국내 독점 사용권을 확보했다. 또 UAM 분야 연구개발과 생태계 조성을 위한 협력도 이어가고 있다. 이 밖에 데이터센터, 클라우드 등 엔터프라이즈 부문과 구독 서비스 ‘T우주’, AI 서비스 ‘에이닷(A.)’, 메타버스 플랫폼 ‘이프랜드(iFland)’ 등의 상품/서비스를 영위하고 있는 에이버스(AIVERSE) 사업, 로봇 사업 등 다양한 비통신 사업에 매진하고 있다.\\n\\nKT, LG유플러스 등이 있다.\\n\\nKT그룹의 모회사로, 1981년 한국전기통신공사로 창립한 뒤, 오랜 기간 한국통신이란 약칭으로 불려왔고, 2002년 민영화되면서 KT(케이티)로 상호를 변경했다. 주력 분야는 유선전화, 초고속인터넷, 이동통신, IPTV 등 통신 서비스 사업과 미디어/콘텐츠 사업이다.\\r\\n\\r\\nKT는 2020년 10월 기존 텔코(TELCO) 기업에서 디지털 플랫폼 기업(DIGICO)으로의 전환을 선언한 이후 AI, 빅데이터, 클라우드 사업을 중심으로 신사업을 키워가고 있다. 가장 중점을 두고 펼치고 있는 것은 AI 사업이다. 현재 KT는 AI컨택센터(AICC)와 AI물류 사업에 이어 AI로봇, AI케어, AI교육 사업도 본격화할 예정이다. 특히 AI로봇의 경우 KT의 강점인 ‘딜리버리 체계’와 ‘로봇 플랫폼’을 기반으로 한 ‘AI로봇 서비스’를 제공하며 서비스 로봇의 보급 확산과 시장 성장을 주도하겠다는 계획이다.\\r\\n\\r\\n클라우드의 성장도 주목해볼 만하다. KT에서 분리된 ‘KT클라우드’는 출범 1년 만에 기업가치를 4조 원대로 인정받아 6,000억 원 규모의 투자 유치에 성공했다. 대한민국 최고의 DX 전문 기업으로 자리매김한 것이다. 또한 AI Cloud 본격화와 IDC DBO(Design/Build/Operate) 사업 수주로 매출이 두 자릿수 성장을 이어가고 있다. 클라우드는 AI 시대에 성장성이 높게 평가되는 분야인 만큼 KT클라우드의 성장도 지속될 전망이다.\\n\\n1996년 설립한 LG유플러스는 LG그룹의 계열사로, 이동통신, TPS(Triple Play Service), 데이터, 전화 등 유무선통신 서비스, IPTV 서비스 등의 사업을 영위하고 있는 통신업체다. 2012년 세계 최초로 LTE 전국망 구축에 성공했고, 경기도 안양시 소재의 ‘LG U+ 평촌 메가센터’는 국내 IDC(Internet Data Center) 최초로 데이터센터 평가기관인 미국 업타임(Uptime)으로부터 ‘Tier-Ⅲ’ 설계 인증을 취득하는 등 서비스 품질과 안정성을 인정받았다. \\r\\n\\r\\nLG유플러스의 사업부문은 ▲모바일 ▲홈 ▲기업 세 가지로 세분화된다. 모바일 부문의 주요 서비스는 다양한 요금제를 제공하는 ‘모바일 요금제’, 선택 약정 할인 및 공시 지원금 할인 등의 ‘휴대폰 구매 지원 프로그램’, 데이터, 영상, 음악 등의 다양한 콘텐츠를 제공하는 ‘부가 서비스’ 등이다. 홈 부문에서는 국내 최초 맞춤 교육 서비스인 ‘U+ 아이들나라’, 음성으로 가전을 실행하는 ‘U+스마트홈’, 넷플릭스/유튜브 등 글로벌 IT 기업과의 제휴를 통한 영상 스트리밍 서비스를 제공한다. 2021년에는 디즈니의 OTT 서비스 ‘디즈니플러스’와 제휴를 공식화하며 IPTV 시장에서의 경쟁력 강화에도 주력하고 있다. 기업 부문은 LG유플러스 5G 서비스를 통한 스마트팩토리, 스마트모빌리티, 영상보안 솔루션과 안정적인 비즈니스 통신 기반 설계, LG유플러스만의 맞춤형 비즈니스 패키지 등으로 이뤄져 있다. 2022년 4월에는 세계 최초로 양자컴퓨터의 해킹 공격을 방어할 수 있는 양자내성암호 전용회선 서비스 ‘U+ 양자내성암호 전용회선’을 출시했다. \\r\\n\\r\\nLG유플러스는 4대 플랫폼을 중심으로 ‘유플러스 3.0 시대’를 열겠다고 공표하며 플랫폼 사업자로의 전환에 강한 의지를 표명했다. 4대 플랫폼은 ▲통신 기반 라이프스타일 ▲놀이 ▲성장 케어 ▲웹 3.0으로, 이를 중심으로 비통신 사업의 매출 비중을 2019년 20%에서 2025년 30%, 2027년 40%까지 높이는 것을 목표로 하고 있다.\\n\\n본 자료의 저작권은 잡코리아(유)에 있으며 무단전재 및 재배포를 금지합니다.\\n\\n의견 나누기 200자까지 작성할 수 있으며 허위정보 및 명예훼손, 비방, 욕설, 광고성 글은 운영자에 의해 삭제될 수 있습니다.\\n\\n닉네임 입력\\n0 / 200\\n의견 입력소중한 의견을 남겨주세요.(개인회원 로그인 후 이용 가능) 여러분의 다양한 의견이 구직자들에게 큰 정보가 됩니다.\\n\\n닉네임 입력\\n0 / 200\\n의견 입력소중한 의견을 남겨주세요.(개인회원 로그인 후 이용 가능) 여러분의 다양한 의견이 구직자들에게 큰 정보가 됩니다.\\n\\n이전 다음글\\n\\n\\n\\n\\n\\n\\n\\n\\n\\n\\n\\n기업리뷰 서비스 메뉴\\n\\n기업리뷰\\n\\n연봉정보\\n\\n기업심층분석\\n\\n잡코리아 기타 정보\\n\\n배너\\n\\n\\n\\n\\n\\n\\n\\n공지사항\\n\\n잡코리아 서비스 링크\\n\\n고객센터\\n\\n© JOBKOREA LLC. All rights reserved.\\n\\n조건 설정\\n\\n현직 여부\\n\\n직무\\n\\n선택한 키워드 0\\n\\n비교 기업 검색\\n\\n분석의 신뢰성을 위해 일정 수준 이상의 리뷰가 등록된 기업만 비교가 가능합니다.\\n\\n최근검색어\\n\\n많이 비교한 기업\\n\\n검색결과 0건\\n\\n</raw></document>']\n",
      "\n",
      "==================================================\n",
      "🔄 Node: \u001b[1;36mrelevance_check\u001b[0m 🔄\n",
      "- - - - - - - - - - - - - - - - - - - - - - - - - \n",
      "yes==== [RELEVANCE CHECK] ====\n",
      "결과: yes\n",
      "\n",
      "==================================================\n",
      "🔄 Node: \u001b[1;36mllm_answer\u001b[0m 🔄\n",
      "- - - - - - - - - - - - - - - - - - - - - - - - - \n",
      "### SK 경쟁사 분석 요약 보고서\n",
      "\n",
      "#### 1. 경쟁사 리스트 정리\n",
      "- **KT**: 1981년 설립, 유선전화, 초고속인터넷, 이동통신, IPTV 등 다양한 통신 서비스 제공. 최근 디지털 플랫폼 기업으로의 전환을 추진하며 AI 및 클라우드 사업 확대.\n",
      "- **LG유플러스**: 1996년 설립, 이동통신, IPTV 등 유무선 통신 서비스 제공. 최근에는 플랫폼 사업자로의 전환을 목표로 비통신 사업 비중 확대.\n",
      "\n",
      "#### 2. 핵심 인사이트 정리\n",
      "- SK텔레콤은 5G 가입자 수 1,467만 명으로 시장의 63%를 차지, 유무선 통신 시장에서 선두 지위를 유지.\n",
      "- B2B 사업에서 통신 인프라를 활용하여 IoT 기반 서비스 및 디지털 전환 서비스를 강화하고 있음.\n",
      "- AI 및 LLM(거대언어모델) 사업을 통해 'AI 컴퍼니'로의 전환을 추진 중이며, 다양한 AI 관련 기업에 대한 투자 진행.\n",
      "\n",
      "#### 3. 전략적 시사점\n",
      "- SK텔레콤은 AI 및 클라우드 서비스의 강화와 함께 비통신 사업 다각화를 통해 경쟁력을 높일 필요가 있음.\n",
      "- 경쟁사인 KT와 LG유플러스도 AI 및 클라우드 사업에 주목하고 있는 만큼, 차별화된 기술력과 서비스를 확보해야 함.\n",
      "- 고객 맞춤형 LLM 서비스 제공을 통해 시장 점유율을 더욱 확대할 기회를 모색해야 함.\n",
      "\n",
      "#### 4. 투자 측면에서 이점\n",
      "- SK텔레콤의 AI 및 비통신 서비스 확장은 장기적으로 안정적인 수익원을 제공할 것으로 기대됨.\n",
      "- 경쟁사보다 앞선 LLM 사업 및 AI 기술 투자로 인해 시장에서의 우위를 점할 가능성이 큼.\n",
      "- 도심항공교통(UAM) 및 데이터센터 사업 등 새로운 성장 동력 확보를 위한 투자는 향후 높은 수익을 창출할 수 있는 기반이 됨."
     ]
    }
   ],
   "source": [
    "# 파라미터 입력 받기\n",
    "config = RunnableConfig(recursion_limit=10, configurable={\"thread_id\": random_uuid()})\n",
    "\n",
    "company = input(\"기업명을 입력하세요 : \")\n",
    "# 수정된 GraphState 예시\n",
    "inputs = GraphState(\n",
    "    question=company,\n",
    "    context=\"\",  # context 비워두기\n",
    "    answer=\"\",   # 초기값 비워두기\n",
    "    messages=[], # 빈 메시지 목록\n",
    "    relevance=\"\",  # 초기값 비워두기\n",
    "    usage_metadata={}  # usage_metadata를 빈 딕셔너리로 추가\n",
    ")\n",
    "\n",
    "# stream_graph 호출\n",
    "stream_graph(app, inputs, config, [\"web_search\", \"relevance_check\", \"llm_answer\"])"
   ]
  }
 ],
 "metadata": {
  "kernelspec": {
   "display_name": "3.11.9",
   "language": "python",
   "name": "python3"
  },
  "language_info": {
   "codemirror_mode": {
    "name": "ipython",
    "version": 3
   },
   "file_extension": ".py",
   "mimetype": "text/x-python",
   "name": "python",
   "nbconvert_exporter": "python",
   "pygments_lexer": "ipython3",
   "version": "3.11.9"
  }
 },
 "nbformat": 4,
 "nbformat_minor": 2
}
