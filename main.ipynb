{
 "cells": [
  {
   "cell_type": "code",
   "execution_count": 1,
   "id": "bc4ad686",
   "metadata": {},
   "outputs": [],
   "source": [
    "import sys\n",
    "sys.path.append(\"./agents\")\n",
    "sys.path.append(\".\")"
   ]
  },
  {
   "cell_type": "code",
   "execution_count": 2,
   "id": "88e02871",
   "metadata": {},
   "outputs": [
    {
     "name": "stdout",
     "output_type": "stream",
     "text": [
      "📂 현재 Jupyter 작업 디렉토리: /Users/now_ung/workspace/AI/startup-judge-service\n"
     ]
    }
   ],
   "source": [
    "import os\n",
    "print(\"📂 현재 Jupyter 작업 디렉토리:\", os.getcwd())\n"
   ]
  },
  {
   "cell_type": "code",
   "execution_count": 3,
   "id": "72e4d722",
   "metadata": {},
   "outputs": [
    {
     "name": "stderr",
     "output_type": "stream",
     "text": [
      "/Users/now_ung/workspace/AI/startup-judge-service/agents/startup_explorer.py:10: LangChainDeprecationWarning: The class `ChatOpenAI` was deprecated in LangChain 0.0.10 and will be removed in 1.0. An updated version of the class exists in the :class:`~langchain-openai package and should be used instead. To use it run `pip install -U :class:`~langchain-openai` and import as `from :class:`~langchain_openai import ChatOpenAI``.\n",
      "  llm = ChatOpenAI(model=\"gpt-4\", temperature=0)\n",
      "/Users/now_ung/workspace/AI/startup-judge-service/agents/startup_explorer.py:40: LangChainDeprecationWarning: The method `BaseChatModel.__call__` was deprecated in langchain-core 0.1.7 and will be removed in 1.0. Use :meth:`~invoke` instead.\n",
      "  response = llm([HumanMessage(content=final_prompt)])\n"
     ]
    },
    {
     "name": "stdout",
     "output_type": "stream",
     "text": [
      "🧪 추출된 스타트업 리스트: ['Soombit.AI', 'MOAIS', 'MODOODOC', 'Petner', 'Asteromorph']\n"
     ]
    }
   ],
   "source": [
    "# main.ipynb\n",
    "from state import AgentState\n",
    "\n",
    "from agents.startup_explorer import startup_explorer\n",
    "\n",
    "initial_state: AgentState = {\n",
    "    \"country\": \"South Korea\",\n",
    "    \"domain\": \"Healthcare\",\n",
    "    \"startup_list\": [],\n",
    "    \"startup_profiles\": {},\n",
    "    \"tech_summary\": {},\n",
    "    \"founder_reputation\": {},\n",
    "    \"market_analysis\": {},\n",
    "    \"legal_risk\": {},\n",
    "    \"competitor_info\": {},\n",
    "    \"investment_decision\": {},\n",
    "    \"final_report\": \"\"\n",
    "}\n",
    "\n",
    "result = startup_explorer(initial_state)\n",
    "print(\"🧪 추출된 스타트업 리스트:\", result[\"startup_list\"])\n"
   ]
  },
  {
   "cell_type": "code",
   "execution_count": null,
   "id": "68c77aa2",
   "metadata": {},
   "outputs": [],
   "source": []
  },
  {
   "cell_type": "code",
   "execution_count": null,
   "id": "5cc2fd33",
   "metadata": {},
   "outputs": [],
   "source": []
  }
 ],
 "metadata": {
  "kernelspec": {
   "display_name": "3.11.11",
   "language": "python",
   "name": "python3"
  },
  "language_info": {
   "codemirror_mode": {
    "name": "ipython",
    "version": 3
   },
   "file_extension": ".py",
   "mimetype": "text/x-python",
   "name": "python",
   "nbconvert_exporter": "python",
   "pygments_lexer": "ipython3",
   "version": "3.11.11"
  }
 },
 "nbformat": 4,
 "nbformat_minor": 5
}
